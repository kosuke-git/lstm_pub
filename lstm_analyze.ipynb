{
  "nbformat": 4,
  "nbformat_minor": 0,
  "metadata": {
    "colab": {
      "name": "lstm_analyze",
      "provenance": [],
      "collapsed_sections": [],
      "toc_visible": true,
      "mount_file_id": "1ArHhtDBDidvm9x9nnUL_lCZ11lXCpErD",
      "authorship_tag": "ABX9TyMACK6L7ykQ5fCVo2zOPOU0"
    },
    "kernelspec": {
      "name": "python3",
      "display_name": "Python 3"
    },
    "language_info": {
      "name": "python"
    },
    "accelerator": "GPU",
    "widgets": {
      "application/vnd.jupyter.widget-state+json": {
        "52c4ce6b74a5434bb479e872423c5e26": {
          "model_module": "@jupyter-widgets/controls",
          "model_name": "HBoxModel",
          "model_module_version": "1.5.0",
          "state": {
            "_dom_classes": [],
            "_model_module": "@jupyter-widgets/controls",
            "_model_module_version": "1.5.0",
            "_model_name": "HBoxModel",
            "_view_count": null,
            "_view_module": "@jupyter-widgets/controls",
            "_view_module_version": "1.5.0",
            "_view_name": "HBoxView",
            "box_style": "",
            "children": [
              "IPY_MODEL_7ae24ef60f8e4fb794a3e1bf98c9f4c0",
              "IPY_MODEL_9003075c518c4c6fb92a3a865cfdde0d",
              "IPY_MODEL_7ba92e1e77624898bfbf42ae32a0169b"
            ],
            "layout": "IPY_MODEL_a86166c54b6040cc97d6e51ce5421969"
          }
        },
        "7ae24ef60f8e4fb794a3e1bf98c9f4c0": {
          "model_module": "@jupyter-widgets/controls",
          "model_name": "HTMLModel",
          "model_module_version": "1.5.0",
          "state": {
            "_dom_classes": [],
            "_model_module": "@jupyter-widgets/controls",
            "_model_module_version": "1.5.0",
            "_model_name": "HTMLModel",
            "_view_count": null,
            "_view_module": "@jupyter-widgets/controls",
            "_view_module_version": "1.5.0",
            "_view_name": "HTMLView",
            "description": "",
            "description_tooltip": null,
            "layout": "IPY_MODEL_3c781194406247f99deddf5e8335f056",
            "placeholder": "​",
            "style": "IPY_MODEL_28436f3b0e62480fbf3183f5f218bf45",
            "value": "100%"
          }
        },
        "9003075c518c4c6fb92a3a865cfdde0d": {
          "model_module": "@jupyter-widgets/controls",
          "model_name": "FloatProgressModel",
          "model_module_version": "1.5.0",
          "state": {
            "_dom_classes": [],
            "_model_module": "@jupyter-widgets/controls",
            "_model_module_version": "1.5.0",
            "_model_name": "FloatProgressModel",
            "_view_count": null,
            "_view_module": "@jupyter-widgets/controls",
            "_view_module_version": "1.5.0",
            "_view_name": "ProgressView",
            "bar_style": "success",
            "description": "",
            "description_tooltip": null,
            "layout": "IPY_MODEL_5d9fc2c14bdb4795bc2e3af6448953c5",
            "max": 74334,
            "min": 0,
            "orientation": "horizontal",
            "style": "IPY_MODEL_c71a2c115a544f5c8de74c4289f9a1e6",
            "value": 74334
          }
        },
        "7ba92e1e77624898bfbf42ae32a0169b": {
          "model_module": "@jupyter-widgets/controls",
          "model_name": "HTMLModel",
          "model_module_version": "1.5.0",
          "state": {
            "_dom_classes": [],
            "_model_module": "@jupyter-widgets/controls",
            "_model_module_version": "1.5.0",
            "_model_name": "HTMLModel",
            "_view_count": null,
            "_view_module": "@jupyter-widgets/controls",
            "_view_module_version": "1.5.0",
            "_view_name": "HTMLView",
            "description": "",
            "description_tooltip": null,
            "layout": "IPY_MODEL_a7df44ff4f22439fadda6341af825027",
            "placeholder": "​",
            "style": "IPY_MODEL_d223f9199cef4207a52645913ce6830a",
            "value": " 74334/74334 [00:00&lt;00:00, 105969.34it/s]"
          }
        },
        "a86166c54b6040cc97d6e51ce5421969": {
          "model_module": "@jupyter-widgets/base",
          "model_name": "LayoutModel",
          "model_module_version": "1.2.0",
          "state": {
            "_model_module": "@jupyter-widgets/base",
            "_model_module_version": "1.2.0",
            "_model_name": "LayoutModel",
            "_view_count": null,
            "_view_module": "@jupyter-widgets/base",
            "_view_module_version": "1.2.0",
            "_view_name": "LayoutView",
            "align_content": null,
            "align_items": null,
            "align_self": null,
            "border": null,
            "bottom": null,
            "display": null,
            "flex": null,
            "flex_flow": null,
            "grid_area": null,
            "grid_auto_columns": null,
            "grid_auto_flow": null,
            "grid_auto_rows": null,
            "grid_column": null,
            "grid_gap": null,
            "grid_row": null,
            "grid_template_areas": null,
            "grid_template_columns": null,
            "grid_template_rows": null,
            "height": null,
            "justify_content": null,
            "justify_items": null,
            "left": null,
            "margin": null,
            "max_height": null,
            "max_width": null,
            "min_height": null,
            "min_width": null,
            "object_fit": null,
            "object_position": null,
            "order": null,
            "overflow": null,
            "overflow_x": null,
            "overflow_y": null,
            "padding": null,
            "right": null,
            "top": null,
            "visibility": null,
            "width": null
          }
        },
        "3c781194406247f99deddf5e8335f056": {
          "model_module": "@jupyter-widgets/base",
          "model_name": "LayoutModel",
          "model_module_version": "1.2.0",
          "state": {
            "_model_module": "@jupyter-widgets/base",
            "_model_module_version": "1.2.0",
            "_model_name": "LayoutModel",
            "_view_count": null,
            "_view_module": "@jupyter-widgets/base",
            "_view_module_version": "1.2.0",
            "_view_name": "LayoutView",
            "align_content": null,
            "align_items": null,
            "align_self": null,
            "border": null,
            "bottom": null,
            "display": null,
            "flex": null,
            "flex_flow": null,
            "grid_area": null,
            "grid_auto_columns": null,
            "grid_auto_flow": null,
            "grid_auto_rows": null,
            "grid_column": null,
            "grid_gap": null,
            "grid_row": null,
            "grid_template_areas": null,
            "grid_template_columns": null,
            "grid_template_rows": null,
            "height": null,
            "justify_content": null,
            "justify_items": null,
            "left": null,
            "margin": null,
            "max_height": null,
            "max_width": null,
            "min_height": null,
            "min_width": null,
            "object_fit": null,
            "object_position": null,
            "order": null,
            "overflow": null,
            "overflow_x": null,
            "overflow_y": null,
            "padding": null,
            "right": null,
            "top": null,
            "visibility": null,
            "width": null
          }
        },
        "28436f3b0e62480fbf3183f5f218bf45": {
          "model_module": "@jupyter-widgets/controls",
          "model_name": "DescriptionStyleModel",
          "model_module_version": "1.5.0",
          "state": {
            "_model_module": "@jupyter-widgets/controls",
            "_model_module_version": "1.5.0",
            "_model_name": "DescriptionStyleModel",
            "_view_count": null,
            "_view_module": "@jupyter-widgets/base",
            "_view_module_version": "1.2.0",
            "_view_name": "StyleView",
            "description_width": ""
          }
        },
        "5d9fc2c14bdb4795bc2e3af6448953c5": {
          "model_module": "@jupyter-widgets/base",
          "model_name": "LayoutModel",
          "model_module_version": "1.2.0",
          "state": {
            "_model_module": "@jupyter-widgets/base",
            "_model_module_version": "1.2.0",
            "_model_name": "LayoutModel",
            "_view_count": null,
            "_view_module": "@jupyter-widgets/base",
            "_view_module_version": "1.2.0",
            "_view_name": "LayoutView",
            "align_content": null,
            "align_items": null,
            "align_self": null,
            "border": null,
            "bottom": null,
            "display": null,
            "flex": null,
            "flex_flow": null,
            "grid_area": null,
            "grid_auto_columns": null,
            "grid_auto_flow": null,
            "grid_auto_rows": null,
            "grid_column": null,
            "grid_gap": null,
            "grid_row": null,
            "grid_template_areas": null,
            "grid_template_columns": null,
            "grid_template_rows": null,
            "height": null,
            "justify_content": null,
            "justify_items": null,
            "left": null,
            "margin": null,
            "max_height": null,
            "max_width": null,
            "min_height": null,
            "min_width": null,
            "object_fit": null,
            "object_position": null,
            "order": null,
            "overflow": null,
            "overflow_x": null,
            "overflow_y": null,
            "padding": null,
            "right": null,
            "top": null,
            "visibility": null,
            "width": null
          }
        },
        "c71a2c115a544f5c8de74c4289f9a1e6": {
          "model_module": "@jupyter-widgets/controls",
          "model_name": "ProgressStyleModel",
          "model_module_version": "1.5.0",
          "state": {
            "_model_module": "@jupyter-widgets/controls",
            "_model_module_version": "1.5.0",
            "_model_name": "ProgressStyleModel",
            "_view_count": null,
            "_view_module": "@jupyter-widgets/base",
            "_view_module_version": "1.2.0",
            "_view_name": "StyleView",
            "bar_color": null,
            "description_width": ""
          }
        },
        "a7df44ff4f22439fadda6341af825027": {
          "model_module": "@jupyter-widgets/base",
          "model_name": "LayoutModel",
          "model_module_version": "1.2.0",
          "state": {
            "_model_module": "@jupyter-widgets/base",
            "_model_module_version": "1.2.0",
            "_model_name": "LayoutModel",
            "_view_count": null,
            "_view_module": "@jupyter-widgets/base",
            "_view_module_version": "1.2.0",
            "_view_name": "LayoutView",
            "align_content": null,
            "align_items": null,
            "align_self": null,
            "border": null,
            "bottom": null,
            "display": null,
            "flex": null,
            "flex_flow": null,
            "grid_area": null,
            "grid_auto_columns": null,
            "grid_auto_flow": null,
            "grid_auto_rows": null,
            "grid_column": null,
            "grid_gap": null,
            "grid_row": null,
            "grid_template_areas": null,
            "grid_template_columns": null,
            "grid_template_rows": null,
            "height": null,
            "justify_content": null,
            "justify_items": null,
            "left": null,
            "margin": null,
            "max_height": null,
            "max_width": null,
            "min_height": null,
            "min_width": null,
            "object_fit": null,
            "object_position": null,
            "order": null,
            "overflow": null,
            "overflow_x": null,
            "overflow_y": null,
            "padding": null,
            "right": null,
            "top": null,
            "visibility": null,
            "width": null
          }
        },
        "d223f9199cef4207a52645913ce6830a": {
          "model_module": "@jupyter-widgets/controls",
          "model_name": "DescriptionStyleModel",
          "model_module_version": "1.5.0",
          "state": {
            "_model_module": "@jupyter-widgets/controls",
            "_model_module_version": "1.5.0",
            "_model_name": "DescriptionStyleModel",
            "_view_count": null,
            "_view_module": "@jupyter-widgets/base",
            "_view_module_version": "1.2.0",
            "_view_name": "StyleView",
            "description_width": ""
          }
        }
      }
    }
  },
  "cells": [
    {
      "cell_type": "markdown",
      "metadata": {
        "id": "Vark7HmipFUG"
      },
      "source": [
        "# Kerasによる分析の実行"
      ]
    },
    {
      "cell_type": "markdown",
      "metadata": {
        "id": "ytjHtO4-pS33"
      },
      "source": [
        "kerasのLSTMモデルを用いて、移動平均と価格（終値）との距離から一定時間後の距離の期待値を求める"
      ]
    },
    {
      "cell_type": "markdown",
      "metadata": {
        "id": "ARNlUVw2SVLr"
      },
      "source": [
        "## 前提"
      ]
    },
    {
      "cell_type": "markdown",
      "metadata": {
        "id": "rpec2XBZpQDY"
      },
      "source": [
        "## 準備"
      ]
    },
    {
      "cell_type": "markdown",
      "metadata": {
        "id": "uKJuj4FXpl4i"
      },
      "source": [
        "### 必要なモジュールをimportする"
      ]
    },
    {
      "cell_type": "code",
      "metadata": {
        "id": "PMfJ8WRreLnM"
      },
      "source": [
        "# データ操作用ライブラリ\n",
        "import numpy as np\n",
        "import pandas as pd\n",
        "\n",
        "# 基本ライブラリ\n",
        "import os\n",
        "import sys\n",
        "import getopt\n",
        "import time\n",
        "import math\n",
        "from decimal import Decimal, ROUND_HALF_UP, ROUND_HALF_EVEN\n",
        "\n",
        "# 機会学習用ライブラリ\n",
        "from tensorflow.keras.models import Sequential, load_model\n",
        "from tensorflow.keras.layers import Dense\n",
        "from tensorflow.keras.layers import LSTM\n",
        "from tensorflow.keras.layers import Dropout\n",
        "from tensorflow.keras.layers import Activation\n",
        "from tensorflow.keras.layers import SimpleRNN\n",
        "from tensorflow.keras.layers import GRU\n",
        "from tensorflow.keras.callbacks import ModelCheckpoint, EarlyStopping, ReduceLROnPlateau, CSVLogger\n",
        "from tensorflow.keras import optimizers\n",
        "from tensorflow.keras import backend as K\n",
        "\n",
        "from sklearn.preprocessing import MinMaxScaler\n",
        "from sklearn.model_selection import train_test_split\n",
        "from sklearn.metrics import mean_squared_error\n",
        "from sklearn.metrics import confusion_matrix\n",
        "\n",
        "# 進捗確認用プログレスバー\n",
        "from tqdm.notebook import tqdm\n",
        "\n",
        "# データアンダーサンプリング用ライブラリ\n",
        "from imblearn.under_sampling import RandomUnderSampler\n",
        "\n",
        "# グラフ用\n",
        "from matplotlib import pyplot as plt"
      ],
      "execution_count": null,
      "outputs": []
    },
    {
      "cell_type": "markdown",
      "source": [
        "### 定数定義"
      ],
      "metadata": {
        "id": "sQltfrbDWRQI"
      }
    },
    {
      "cell_type": "code",
      "metadata": {
        "id": "AuvSnNIACDxM"
      },
      "source": [
        "# 中間層の数\n",
        "NUM_MIDDLE = 200\n",
        "\n",
        "# ニューラルネットのモデルの定数\n",
        "batch_size = 32   # 1回で投入するデータ量\n",
        "time_steps = 288  # 5M足で1日分\n",
        "epochs = 100 # モデル構築練習用の仮置き\n",
        "validation_split = 0.25 # validationデータの割合\n",
        "output_gap = 5    # 今回は各行にあるlabel列が教師データとなるため、時系列データとのgapは無い → やめ、close列のoutput_gap本後の価格で判定することにする\n",
        "value_gap = 5     # pips。現在価格からvalue_gap価格変動があると予想した場合に売買する\n",
        "learning_rate=0.0001  # 学習率"
      ],
      "execution_count": null,
      "outputs": []
    },
    {
      "cell_type": "markdown",
      "metadata": {
        "id": "8XTWgVvGpodp"
      },
      "source": [
        "## データ読み込み"
      ]
    },
    {
      "cell_type": "markdown",
      "metadata": {
        "id": "Rk3fss8q_kcr"
      },
      "source": [
        "### 学習データを読み込み"
      ]
    },
    {
      "cell_type": "code",
      "metadata": {
        "id": "jA31UJZiOhNd"
      },
      "source": [
        "# データファイル読み込み\n",
        "df = pd.read_csv(\n",
        "    'drive/MyDrive/FX/AI/data/shaped/DAT_ASCII_USDJPY_M1_2021_CONV.csv',\n",
        "    sep=',',\n",
        "    # names=('date', 'open', 'high', 'low', 'close', 'spread'),\n",
        "    converters={'open': Decimal, 'high': Decimal, 'low': Decimal, 'close': Decimal, 'Lema': Decimal, \"Mema\": Decimal, \"Sema\": Decimal,\n",
        "                \"L_Mdiff\": Decimal, \"L_Sdiff\": Decimal, \"L_Cdiff\": Decimal, \"M_Sdiff\": Decimal, \"M_Cdiff\": Decimal, \"S_Cdiff\": Decimal, \"weekday\": Decimal},\n",
        "    )"
      ],
      "execution_count": null,
      "outputs": []
    },
    {
      "cell_type": "code",
      "metadata": {
        "id": "9y6MCyf_XpCS",
        "colab": {
          "base_uri": "https://localhost:8080/",
          "height": 270
        },
        "outputId": "e411e369-ea80-4731-d978-461664834a48"
      },
      "source": [
        "df.head()"
      ],
      "execution_count": null,
      "outputs": [
        {
          "output_type": "execute_result",
          "data": {
            "text/plain": [
              "         open        high         low       close      Lema      Mema  \\\n",
              "0  103.097000  103.197000  103.097000  103.195000   103.195   103.195   \n",
              "1  103.195000  103.238000  103.195000  103.213000  103.1952  103.1955   \n",
              "2  103.213000  103.229000  103.213000  103.213000  103.1954  103.1959   \n",
              "3  103.213000  103.213000  103.212000  103.213000  103.1955  103.1964   \n",
              "4  103.213000  103.229000  103.212000  103.213000  103.1957  103.1968   \n",
              "\n",
              "       Sema  L_Mdiff  L_Sdiff    L_Cdiff  M_Sdiff    M_Cdiff    S_Cdiff  \\\n",
              "0   103.195    0.000    0.000   0.000000    0.000   0.000000   0.000000   \n",
              "1  103.1964  -0.0003  -0.0012  -0.017800  -0.0009  -0.017500  -0.016600   \n",
              "2  103.1977  -0.0005  -0.0023  -0.017600  -0.0018  -0.017100  -0.015300   \n",
              "3  103.1988  -0.0009  -0.0033  -0.017500  -0.0024  -0.016600  -0.014200   \n",
              "4  103.1999  -0.0011  -0.0042  -0.017300  -0.0031  -0.016200  -0.013100   \n",
              "\n",
              "  weekday  feature  label  \n",
              "0       6    0.032      0  \n",
              "1       6    0.016      0  \n",
              "2       6    0.016      0  \n",
              "3       6   -0.014      0  \n",
              "4       6   -0.020      0  "
            ],
            "text/html": [
              "\n",
              "  <div id=\"df-70c5f811-4813-40d6-aff8-58f0bd78d45e\">\n",
              "    <div class=\"colab-df-container\">\n",
              "      <div>\n",
              "<style scoped>\n",
              "    .dataframe tbody tr th:only-of-type {\n",
              "        vertical-align: middle;\n",
              "    }\n",
              "\n",
              "    .dataframe tbody tr th {\n",
              "        vertical-align: top;\n",
              "    }\n",
              "\n",
              "    .dataframe thead th {\n",
              "        text-align: right;\n",
              "    }\n",
              "</style>\n",
              "<table border=\"1\" class=\"dataframe\">\n",
              "  <thead>\n",
              "    <tr style=\"text-align: right;\">\n",
              "      <th></th>\n",
              "      <th>open</th>\n",
              "      <th>high</th>\n",
              "      <th>low</th>\n",
              "      <th>close</th>\n",
              "      <th>Lema</th>\n",
              "      <th>Mema</th>\n",
              "      <th>Sema</th>\n",
              "      <th>L_Mdiff</th>\n",
              "      <th>L_Sdiff</th>\n",
              "      <th>L_Cdiff</th>\n",
              "      <th>M_Sdiff</th>\n",
              "      <th>M_Cdiff</th>\n",
              "      <th>S_Cdiff</th>\n",
              "      <th>weekday</th>\n",
              "      <th>feature</th>\n",
              "      <th>label</th>\n",
              "    </tr>\n",
              "  </thead>\n",
              "  <tbody>\n",
              "    <tr>\n",
              "      <th>0</th>\n",
              "      <td>103.097000</td>\n",
              "      <td>103.197000</td>\n",
              "      <td>103.097000</td>\n",
              "      <td>103.195000</td>\n",
              "      <td>103.195</td>\n",
              "      <td>103.195</td>\n",
              "      <td>103.195</td>\n",
              "      <td>0.000</td>\n",
              "      <td>0.000</td>\n",
              "      <td>0.000000</td>\n",
              "      <td>0.000</td>\n",
              "      <td>0.000000</td>\n",
              "      <td>0.000000</td>\n",
              "      <td>6</td>\n",
              "      <td>0.032</td>\n",
              "      <td>0</td>\n",
              "    </tr>\n",
              "    <tr>\n",
              "      <th>1</th>\n",
              "      <td>103.195000</td>\n",
              "      <td>103.238000</td>\n",
              "      <td>103.195000</td>\n",
              "      <td>103.213000</td>\n",
              "      <td>103.1952</td>\n",
              "      <td>103.1955</td>\n",
              "      <td>103.1964</td>\n",
              "      <td>-0.0003</td>\n",
              "      <td>-0.0012</td>\n",
              "      <td>-0.017800</td>\n",
              "      <td>-0.0009</td>\n",
              "      <td>-0.017500</td>\n",
              "      <td>-0.016600</td>\n",
              "      <td>6</td>\n",
              "      <td>0.016</td>\n",
              "      <td>0</td>\n",
              "    </tr>\n",
              "    <tr>\n",
              "      <th>2</th>\n",
              "      <td>103.213000</td>\n",
              "      <td>103.229000</td>\n",
              "      <td>103.213000</td>\n",
              "      <td>103.213000</td>\n",
              "      <td>103.1954</td>\n",
              "      <td>103.1959</td>\n",
              "      <td>103.1977</td>\n",
              "      <td>-0.0005</td>\n",
              "      <td>-0.0023</td>\n",
              "      <td>-0.017600</td>\n",
              "      <td>-0.0018</td>\n",
              "      <td>-0.017100</td>\n",
              "      <td>-0.015300</td>\n",
              "      <td>6</td>\n",
              "      <td>0.016</td>\n",
              "      <td>0</td>\n",
              "    </tr>\n",
              "    <tr>\n",
              "      <th>3</th>\n",
              "      <td>103.213000</td>\n",
              "      <td>103.213000</td>\n",
              "      <td>103.212000</td>\n",
              "      <td>103.213000</td>\n",
              "      <td>103.1955</td>\n",
              "      <td>103.1964</td>\n",
              "      <td>103.1988</td>\n",
              "      <td>-0.0009</td>\n",
              "      <td>-0.0033</td>\n",
              "      <td>-0.017500</td>\n",
              "      <td>-0.0024</td>\n",
              "      <td>-0.016600</td>\n",
              "      <td>-0.014200</td>\n",
              "      <td>6</td>\n",
              "      <td>-0.014</td>\n",
              "      <td>0</td>\n",
              "    </tr>\n",
              "    <tr>\n",
              "      <th>4</th>\n",
              "      <td>103.213000</td>\n",
              "      <td>103.229000</td>\n",
              "      <td>103.212000</td>\n",
              "      <td>103.213000</td>\n",
              "      <td>103.1957</td>\n",
              "      <td>103.1968</td>\n",
              "      <td>103.1999</td>\n",
              "      <td>-0.0011</td>\n",
              "      <td>-0.0042</td>\n",
              "      <td>-0.017300</td>\n",
              "      <td>-0.0031</td>\n",
              "      <td>-0.016200</td>\n",
              "      <td>-0.013100</td>\n",
              "      <td>6</td>\n",
              "      <td>-0.020</td>\n",
              "      <td>0</td>\n",
              "    </tr>\n",
              "  </tbody>\n",
              "</table>\n",
              "</div>\n",
              "      <button class=\"colab-df-convert\" onclick=\"convertToInteractive('df-70c5f811-4813-40d6-aff8-58f0bd78d45e')\"\n",
              "              title=\"Convert this dataframe to an interactive table.\"\n",
              "              style=\"display:none;\">\n",
              "        \n",
              "  <svg xmlns=\"http://www.w3.org/2000/svg\" height=\"24px\"viewBox=\"0 0 24 24\"\n",
              "       width=\"24px\">\n",
              "    <path d=\"M0 0h24v24H0V0z\" fill=\"none\"/>\n",
              "    <path d=\"M18.56 5.44l.94 2.06.94-2.06 2.06-.94-2.06-.94-.94-2.06-.94 2.06-2.06.94zm-11 1L8.5 8.5l.94-2.06 2.06-.94-2.06-.94L8.5 2.5l-.94 2.06-2.06.94zm10 10l.94 2.06.94-2.06 2.06-.94-2.06-.94-.94-2.06-.94 2.06-2.06.94z\"/><path d=\"M17.41 7.96l-1.37-1.37c-.4-.4-.92-.59-1.43-.59-.52 0-1.04.2-1.43.59L10.3 9.45l-7.72 7.72c-.78.78-.78 2.05 0 2.83L4 21.41c.39.39.9.59 1.41.59.51 0 1.02-.2 1.41-.59l7.78-7.78 2.81-2.81c.8-.78.8-2.07 0-2.86zM5.41 20L4 18.59l7.72-7.72 1.47 1.35L5.41 20z\"/>\n",
              "  </svg>\n",
              "      </button>\n",
              "      \n",
              "  <style>\n",
              "    .colab-df-container {\n",
              "      display:flex;\n",
              "      flex-wrap:wrap;\n",
              "      gap: 12px;\n",
              "    }\n",
              "\n",
              "    .colab-df-convert {\n",
              "      background-color: #E8F0FE;\n",
              "      border: none;\n",
              "      border-radius: 50%;\n",
              "      cursor: pointer;\n",
              "      display: none;\n",
              "      fill: #1967D2;\n",
              "      height: 32px;\n",
              "      padding: 0 0 0 0;\n",
              "      width: 32px;\n",
              "    }\n",
              "\n",
              "    .colab-df-convert:hover {\n",
              "      background-color: #E2EBFA;\n",
              "      box-shadow: 0px 1px 2px rgba(60, 64, 67, 0.3), 0px 1px 3px 1px rgba(60, 64, 67, 0.15);\n",
              "      fill: #174EA6;\n",
              "    }\n",
              "\n",
              "    [theme=dark] .colab-df-convert {\n",
              "      background-color: #3B4455;\n",
              "      fill: #D2E3FC;\n",
              "    }\n",
              "\n",
              "    [theme=dark] .colab-df-convert:hover {\n",
              "      background-color: #434B5C;\n",
              "      box-shadow: 0px 1px 3px 1px rgba(0, 0, 0, 0.15);\n",
              "      filter: drop-shadow(0px 1px 2px rgba(0, 0, 0, 0.3));\n",
              "      fill: #FFFFFF;\n",
              "    }\n",
              "  </style>\n",
              "\n",
              "      <script>\n",
              "        const buttonEl =\n",
              "          document.querySelector('#df-70c5f811-4813-40d6-aff8-58f0bd78d45e button.colab-df-convert');\n",
              "        buttonEl.style.display =\n",
              "          google.colab.kernel.accessAllowed ? 'block' : 'none';\n",
              "\n",
              "        async function convertToInteractive(key) {\n",
              "          const element = document.querySelector('#df-70c5f811-4813-40d6-aff8-58f0bd78d45e');\n",
              "          const dataTable =\n",
              "            await google.colab.kernel.invokeFunction('convertToInteractive',\n",
              "                                                     [key], {});\n",
              "          if (!dataTable) return;\n",
              "\n",
              "          const docLinkHtml = 'Like what you see? Visit the ' +\n",
              "            '<a target=\"_blank\" href=https://colab.research.google.com/notebooks/data_table.ipynb>data table notebook</a>'\n",
              "            + ' to learn more about interactive tables.';\n",
              "          element.innerHTML = '';\n",
              "          dataTable['output_type'] = 'display_data';\n",
              "          await google.colab.output.renderOutput(dataTable, element);\n",
              "          const docLink = document.createElement('div');\n",
              "          docLink.innerHTML = docLinkHtml;\n",
              "          element.appendChild(docLink);\n",
              "        }\n",
              "      </script>\n",
              "    </div>\n",
              "  </div>\n",
              "  "
            ]
          },
          "metadata": {},
          "execution_count": 4
        }
      ]
    },
    {
      "cell_type": "code",
      "source": [
        "df.shape"
      ],
      "metadata": {
        "id": "Dj9BdypFNbu6",
        "colab": {
          "base_uri": "https://localhost:8080/"
        },
        "outputId": "097024ae-08ca-4da7-eaad-4031f5f280bf"
      },
      "execution_count": null,
      "outputs": [
        {
          "output_type": "execute_result",
          "data": {
            "text/plain": [
              "(74627, 16)"
            ]
          },
          "metadata": {},
          "execution_count": 5
        }
      ]
    },
    {
      "cell_type": "markdown",
      "source": [
        "この時点での2軸のグラフを表示しておきたい"
      ],
      "metadata": {
        "id": "vVRC8Jl2dceM"
      }
    },
    {
      "cell_type": "code",
      "source": [
        "fig = plt.figure(figsize=(10,7))\n",
        "ax1 = fig.add_subplot(2, 1, 1)  # 例えば(338)とした場合、figを3x3の9ますに分けて8番目(中の下)にグラフエリアが作られる\n",
        "ax1.plot(df[:300]['close'], label='close', color='blue')\n",
        "ax1.plot(df[:300]['Lema'], label='Lema', color='red')\n",
        "ax1.set_xlabel('Minutes')\n",
        "ax1.set_ylabel('Price(円)')\n",
        "ax1.set_title('Close')\n",
        "ax1.grid()\n",
        "h1, l1 = ax1.get_legend_handles_labels()\n",
        "ax1.legend(h1, l1, loc='upper left')\n",
        "\n",
        "ax2 = fig.add_subplot(2, 1, 2)\n",
        "ax2.plot(df[:300]['L_Cdiff'], label='L_Cdiff', color='red')\n",
        "ax2.set_xlabel('Minutes')\n",
        "ax2.set_ylabel('Diff(円)')\n",
        "ax2.set_title('Diff')\n",
        "ax2.grid()\n",
        "h2, l2 = ax2.get_legend_handles_labels()\n",
        "ax2.legend(h2, l2, loc='upper left')\n",
        "\n",
        "fig.tight_layout()\n",
        "\n",
        "plt.show()"
      ],
      "metadata": {
        "colab": {
          "base_uri": "https://localhost:8080/",
          "height": 585
        },
        "id": "EIW_kYX_di0P",
        "outputId": "f488aff1-1430-43ed-96a9-4052f88d705c"
      },
      "execution_count": null,
      "outputs": [
        {
          "output_type": "stream",
          "name": "stderr",
          "text": [
            "/usr/local/lib/python3.7/dist-packages/matplotlib/backends/backend_agg.py:214: RuntimeWarning: Glyph 20870 missing from current font.\n",
            "  font.set_text(s, 0.0, flags=flags)\n",
            "/usr/local/lib/python3.7/dist-packages/matplotlib/backends/backend_agg.py:183: RuntimeWarning: Glyph 20870 missing from current font.\n",
            "  font.set_text(s, 0, flags=flags)\n"
          ]
        },
        {
          "output_type": "display_data",
          "data": {
            "text/plain": [
              "<Figure size 720x504 with 2 Axes>"
            ],
            "image/png": "[encoded data removed]"
          },
          "metadata": {
            "needs_background": "light"
          }
        }
      ]
    },
    {
      "cell_type": "markdown",
      "source": [
        "### アンダーサンプリング用に間引き後のインデックスを取得する"
      ],
      "metadata": {
        "id": "szBzLRrmqVPx"
      }
    },
    {
      "cell_type": "code",
      "source": [
        "# ラベルに偏りがある\n",
        "y_class = df['label']\n",
        "y_class.value_counts()"
      ],
      "metadata": {
        "id": "iEiWQz0umCQ9",
        "colab": {
          "base_uri": "https://localhost:8080/"
        },
        "outputId": "d96a8d45-1b10-4752-8e2b-1614b5c8c775"
      },
      "execution_count": null,
      "outputs": [
        {
          "output_type": "execute_result",
          "data": {
            "text/plain": [
              " 0    59145\n",
              " 1     7859\n",
              "-1     7623\n",
              "Name: label, dtype: int64"
            ]
          },
          "metadata": {},
          "execution_count": 10
        }
      ]
    },
    {
      "cell_type": "code",
      "source": [
        "strategy = {\n",
        "    0:y_class.value_counts()[1]*2,  # 0は1の倍くらい\n",
        "    1:y_class.value_counts()[1],\n",
        "    -1:y_class.value_counts()[-1],\n",
        "    }"
      ],
      "metadata": {
        "id": "bxhjb9e1rAfo"
      },
      "execution_count": null,
      "outputs": []
    },
    {
      "cell_type": "code",
      "source": [
        "rus = RandomUnderSampler(random_state=0, sampling_strategy = strategy)\n",
        "resample_idx, _ = rus.fit_resample(pd.DataFrame(df.index), y_class)"
      ],
      "metadata": {
        "id": "2LYO_HjCtsfB"
      },
      "execution_count": null,
      "outputs": []
    },
    {
      "cell_type": "code",
      "source": [
        "# yが間引かれていることを確認する\n",
        "y_class[resample_idx[0].values.tolist()].value_counts() # valuesで一度nbarrayにし、それをさらにtolistでlist型にする"
      ],
      "metadata": {
        "colab": {
          "base_uri": "https://localhost:8080/"
        },
        "id": "WFIb2gvhvjiM",
        "outputId": "e93c64f9-cd8a-4aba-89cc-dc5c677030ab"
      },
      "execution_count": null,
      "outputs": [
        {
          "output_type": "execute_result",
          "data": {
            "text/plain": [
              " 0    15718\n",
              " 1     7859\n",
              "-1     7623\n",
              "Name: label, dtype: int64"
            ]
          },
          "metadata": {},
          "execution_count": 18
        }
      ]
    },
    {
      "cell_type": "markdown",
      "metadata": {
        "id": "BcPdCIFn_xw1"
      },
      "source": [
        "### 入力データを正規化"
      ]
    },
    {
      "cell_type": "markdown",
      "source": [
        "最小値・最大値を事前に定義できるらしい  \n",
        "https://qiita.com/Qiitaman/items/c94420e8b86aae5f28a9"
      ],
      "metadata": {
        "id": "QVNyIuZ8jCEq"
      }
    },
    {
      "cell_type": "code",
      "metadata": {
        "id": "lFpstM_O0s9l"
      },
      "source": [
        "feature_columns=[\"close\", \"Lema\", \"Mema\", \"Sema\", \"L_Mdiff\", \"L_Sdiff\", \"L_Cdiff\", \"M_Sdiff\", \"M_Cdiff\", \"S_Cdiff\"]"
      ],
      "execution_count": null,
      "outputs": []
    },
    {
      "cell_type": "code",
      "metadata": {
        "id": "h0pqJIpIAhnh"
      },
      "source": [
        "# sklearnの機能(0～1への正規化の例)\n",
        "# fit:データを変換するために必要な統計情報を計算します. 変換はまだ行われません. ex.(0, 1, 2) -> 1 / 2 x が、算出される（たぶん）\n",
        "# transform:fit の結果を使って、実際にデータを変換します. ex.(0,1,2) -> 上記を計算 -> (0, 0.5, 1)\n",
        "# fit_transform:上記の組み合わせ.\n",
        "min_max_scaler = MinMaxScaler()\n",
        "X_array = min_max_scaler.fit_transform(df.loc[:,feature_columns].values)"
      ],
      "execution_count": null,
      "outputs": []
    },
    {
      "cell_type": "code",
      "metadata": {
        "id": "xqLPDpt3PQqj",
        "colab": {
          "base_uri": "https://localhost:8080/"
        },
        "outputId": "93a8350b-0724-4d6d-93d9-a5ec9fd851cb"
      },
      "source": [
        "X_array"
      ],
      "execution_count": null,
      "outputs": [
        {
          "output_type": "execute_result",
          "data": {
            "text/plain": [
              "array([[0.0460511 , 0.03438851, 0.04007201, ..., 0.46079447, 0.44794366,\n",
              "        0.52500214],\n",
              "       [0.04744894, 0.0344044 , 0.04011132, ..., 0.45924007, 0.43631652,\n",
              "        0.51076422],\n",
              "       [0.04744894, 0.03442029, 0.04014277, ..., 0.45768566, 0.43658229,\n",
              "        0.51187923],\n",
              "       ...,\n",
              "       [0.96909218, 0.97915078, 0.97417372, ..., 0.47150259, 0.44488738,\n",
              "        0.51573891],\n",
              "       [0.97017939, 0.97915872, 0.97421303, ..., 0.46891192, 0.43591788,\n",
              "        0.50544644],\n",
              "       [0.97064534, 0.97917461, 0.9742602 , ..., 0.46614853, 0.43233008,\n",
              "        0.50218715]])"
            ]
          },
          "metadata": {},
          "execution_count": 18
        }
      ]
    },
    {
      "cell_type": "code",
      "source": [
        "fig = plt.figure(figsize=(10,7))\n",
        "ax1 = fig.add_subplot(2, 1, 1)  # 例えば(338)とした場合、figを3x3の9ますに分けて8番目(中の下)にグラフエリアが作られる\n",
        "ax1.plot(X_array[:300, 0], label='close', color='blue')\n",
        "ax1.plot(X_array[:300, 1], label='Lema', color='red')\n",
        "ax1.set_xlabel('Minutes')\n",
        "ax1.set_ylabel('Price(円)')\n",
        "ax1.set_title('Close')\n",
        "ax1.grid()\n",
        "h1, l1 = ax1.get_legend_handles_labels()\n",
        "ax1.legend(h1, l1, loc='upper left')\n",
        "\n",
        "ax2 = fig.add_subplot(2, 1, 2)\n",
        "ax2.plot(X_array[:300, 6], label='L_Cdiff', color='red')\n",
        "ax2.set_xlabel('Minutes')\n",
        "ax2.set_ylabel('Diff(円)')\n",
        "ax2.set_title('Diff')\n",
        "ax2.grid()\n",
        "h2, l2 = ax2.get_legend_handles_labels()\n",
        "ax2.legend(h2, l2, loc='upper left')\n",
        "\n",
        "fig.tight_layout()\n",
        "\n",
        "plt.show()"
      ],
      "metadata": {
        "colab": {
          "base_uri": "https://localhost:8080/",
          "height": 585
        },
        "id": "84mb8PIdxz2i",
        "outputId": "e9ea43c7-4fb1-4627-ff3d-906ac6bbf5c0"
      },
      "execution_count": null,
      "outputs": [
        {
          "output_type": "stream",
          "name": "stderr",
          "text": [
            "/usr/local/lib/python3.7/dist-packages/matplotlib/backends/backend_agg.py:214: RuntimeWarning: Glyph 20870 missing from current font.\n",
            "  font.set_text(s, 0.0, flags=flags)\n",
            "/usr/local/lib/python3.7/dist-packages/matplotlib/backends/backend_agg.py:183: RuntimeWarning: Glyph 20870 missing from current font.\n",
            "  font.set_text(s, 0, flags=flags)\n"
          ]
        },
        {
          "output_type": "display_data",
          "data": {
            "text/plain": [
              "<Figure size 720x504 with 2 Axes>"
            ],
            "image/png": "[encoded data removed]"
          },
          "metadata": {
            "needs_background": "light"
          }
        }
      ]
    },
    {
      "cell_type": "markdown",
      "metadata": {
        "id": "KCrMRbKhEbQB"
      },
      "source": [
        "### 2次元表から1次元追加し、TimeFrameごとのデータを作る"
      ]
    },
    {
      "cell_type": "code",
      "metadata": {
        "id": "3TGkR6P_A2PI"
      },
      "source": [
        "#インプットと正解データのセットを作る\n",
        "# input_data: 入力の行列。\n",
        "def build_timeseries(input_data, label_data, time_steps, output_gap):\n",
        "    dimention_0 = input_data.shape[0] - time_steps - output_gap\n",
        "    dimention_1 = input_data.shape[1]\n",
        "    x = np.zeros((dimention_0, time_steps, dimention_1))  # time_steps行、dimention_1列の行列をdimenstion_0個作る\n",
        "    y = np.zeros((dimention_0,))\n",
        "    for i in tqdm(range(dimention_0)):\n",
        "        x[i] = input_data[i:i+time_steps] # time_steps分の行を取り出して、1回目の入力データとしてxに入れる。1行ずつずらしながら繰り返す\n",
        "        y[i] = label_data[i+time_steps] # 今回はlabel_dataにすでにoutput_gap本後、の考慮は入っているので改めて入れる必要はない\n",
        "    print(\"length of time-series i/o\", x.shape, y.shape)\n",
        "    return x, y"
      ],
      "execution_count": null,
      "outputs": []
    },
    {
      "cell_type": "code",
      "source": [
        "y_class = df['label']"
      ],
      "metadata": {
        "id": "WvRQk9YliHU3"
      },
      "execution_count": null,
      "outputs": []
    },
    {
      "cell_type": "code",
      "source": [
        "# 入力データからインプットとアウトプットのセットを作成(間引き前)\n",
        "X_all, y_all = build_timeseries(X_array, y_class, time_steps, output_gap)"
      ],
      "metadata": {
        "id": "b68QENJFkqqy",
        "colab": {
          "base_uri": "https://localhost:8080/",
          "height": 67,
          "referenced_widgets": [
            "52c4ce6b74a5434bb479e872423c5e26",
            "7ae24ef60f8e4fb794a3e1bf98c9f4c0",
            "9003075c518c4c6fb92a3a865cfdde0d",
            "7ba92e1e77624898bfbf42ae32a0169b",
            "a86166c54b6040cc97d6e51ce5421969",
            "3c781194406247f99deddf5e8335f056",
            "28436f3b0e62480fbf3183f5f218bf45",
            "5d9fc2c14bdb4795bc2e3af6448953c5",
            "c71a2c115a544f5c8de74c4289f9a1e6",
            "a7df44ff4f22439fadda6341af825027",
            "d223f9199cef4207a52645913ce6830a"
          ]
        },
        "outputId": "f85b42e7-7915-4960-e657-a4be791f6091"
      },
      "execution_count": null,
      "outputs": [
        {
          "output_type": "display_data",
          "data": {
            "text/plain": [
              "  0%|          | 0/74334 [00:00<?, ?it/s]"
            ],
            "application/vnd.jupyter.widget-view+json": {
              "version_major": 2,
              "version_minor": 0,
              "model_id": "52c4ce6b74a5434bb479e872423c5e26"
            }
          },
          "metadata": {}
        },
        {
          "output_type": "stream",
          "name": "stdout",
          "text": [
            "length of time-series i/o (74334, 288, 10) (74334,)\n"
          ]
        }
      ]
    },
    {
      "cell_type": "markdown",
      "source": [
        "### アンダーサンプリングの適用"
      ],
      "metadata": {
        "id": "r9krIWfTyTzi"
      }
    },
    {
      "cell_type": "code",
      "source": [
        "y_all_df = pd.DataFrame(y_all)"
      ],
      "metadata": {
        "id": "AulqoD1SARfq"
      },
      "execution_count": null,
      "outputs": []
    },
    {
      "cell_type": "code",
      "source": [
        "y_all_df[0].value_counts()"
      ],
      "metadata": {
        "colab": {
          "base_uri": "https://localhost:8080/"
        },
        "id": "hMCvKNOQAVsq",
        "outputId": "478acd86-5909-4e0d-b3bd-b94a40d8f186"
      },
      "execution_count": null,
      "outputs": [
        {
          "output_type": "execute_result",
          "data": {
            "text/plain": [
              " 0.0    58901\n",
              " 1.0     7836\n",
              "-1.0     7597\n",
              "Name: 0, dtype: int64"
            ]
          },
          "metadata": {},
          "execution_count": 23
        }
      ]
    },
    {
      "cell_type": "code",
      "source": [
        "strategy = {\n",
        "    0:y_all_df[0].value_counts()[1.0]*2,  # 0は1の倍くらい\n",
        "    1:y_all_df[0].value_counts()[1.0],\n",
        "    -1:y_all_df[0].value_counts()[-1.0],\n",
        "    }"
      ],
      "metadata": {
        "id": "2Lq-T-G5ALzm"
      },
      "execution_count": null,
      "outputs": []
    },
    {
      "cell_type": "code",
      "source": [
        "# 取得されるindexは、どうやら列0～ソートされて取得されるらしい\n",
        "rus = RandomUnderSampler(random_state=0, sampling_strategy = strategy)\n",
        "resample_idx, _ = rus.fit_resample(pd.DataFrame(y_all_df.index), y_all_df)"
      ],
      "metadata": {
        "id": "hSBO3fm8AtYk"
      },
      "execution_count": null,
      "outputs": []
    },
    {
      "cell_type": "code",
      "source": [
        "# 入力データから前半288本はXに含まれないが、Xとしては\"0\"から始まっているので後半288本が存在しない、ということである\n",
        "# resample_idxの(カラム'0'の)番号\"289\"が、X_allのindex='0'に対応しているはず。なので調整が必要\n",
        "X = X_all[resample_idx[0].values.tolist()]\n",
        "y = y_all[resample_idx[0].values.tolist()]"
      ],
      "metadata": {
        "id": "WtRPbOR8zW4O"
      },
      "execution_count": null,
      "outputs": []
    },
    {
      "cell_type": "code",
      "source": [
        "len(X)"
      ],
      "metadata": {
        "colab": {
          "base_uri": "https://localhost:8080/"
        },
        "id": "RRxwuaU_BlCH",
        "outputId": "4edf0579-a198-46f3-dd58-f2ce69c5a724"
      },
      "execution_count": null,
      "outputs": [
        {
          "output_type": "execute_result",
          "data": {
            "text/plain": [
              "31105"
            ]
          },
          "metadata": {},
          "execution_count": 27
        }
      ]
    },
    {
      "cell_type": "code",
      "source": [
        "pd.DataFrame(y).value_counts().sum()"
      ],
      "metadata": {
        "colab": {
          "base_uri": "https://localhost:8080/"
        },
        "id": "s8ogyLaiBpsG",
        "outputId": "510cfb93-eebd-40d0-9dc1-7c6660e9b0a4"
      },
      "execution_count": null,
      "outputs": [
        {
          "output_type": "execute_result",
          "data": {
            "text/plain": [
              "31105"
            ]
          },
          "metadata": {},
          "execution_count": 28
        }
      ]
    },
    {
      "cell_type": "markdown",
      "metadata": {
        "id": "T7CB4CBaQCEz"
      },
      "source": [
        "### LabelをOneHotVector変換"
      ]
    },
    {
      "cell_type": "markdown",
      "source": [
        "[sklearn.preprocessing.OneHotEncoder](https://mathwords.net/fittransform)"
      ],
      "metadata": {
        "id": "XyyPFcfabjFL"
      }
    },
    {
      "cell_type": "markdown",
      "source": [
        "設定を保存<br>\n",
        "https://zerofromlight.com/blogs/detail/71/#_5"
      ],
      "metadata": {
        "id": "OT6zSxp2b0Py"
      }
    },
    {
      "cell_type": "code",
      "source": [
        "y.shape"
      ],
      "metadata": {
        "colab": {
          "base_uri": "https://localhost:8080/"
        },
        "id": "sYFJl4A92WFM",
        "outputId": "28e2acee-cb6d-4f3b-b7e0-8e1834184de0"
      },
      "execution_count": null,
      "outputs": [
        {
          "output_type": "execute_result",
          "data": {
            "text/plain": [
              "(31105,)"
            ]
          },
          "metadata": {},
          "execution_count": 20
        }
      ]
    },
    {
      "cell_type": "code",
      "source": [
        "y.reshape(-1, 1).shape"
      ],
      "metadata": {
        "colab": {
          "base_uri": "https://localhost:8080/"
        },
        "id": "IrNO-xsW2Zly",
        "outputId": "12840585-7609-4fef-ed48-ea115172c024"
      },
      "execution_count": null,
      "outputs": [
        {
          "output_type": "execute_result",
          "data": {
            "text/plain": [
              "(31105, 1)"
            ]
          },
          "metadata": {},
          "execution_count": 21
        }
      ]
    },
    {
      "cell_type": "code",
      "source": [
        "y"
      ],
      "metadata": {
        "colab": {
          "base_uri": "https://localhost:8080/"
        },
        "id": "72Up2cIJFFrm",
        "outputId": "0204a81a-72d9-4f6b-f90e-93fc05c1750a"
      },
      "execution_count": null,
      "outputs": [
        {
          "output_type": "execute_result",
          "data": {
            "text/plain": [
              "array([-1., -1., -1., ...,  1.,  1.,  1.])"
            ]
          },
          "metadata": {},
          "execution_count": 78
        }
      ]
    },
    {
      "cell_type": "code",
      "source": [
        "y.reshape(-1, 1)"
      ],
      "metadata": {
        "colab": {
          "base_uri": "https://localhost:8080/"
        },
        "id": "EK1miFBGFtZ3",
        "outputId": "9da8373b-a8b5-4ccb-a8a4-9504b8a98c13"
      },
      "execution_count": null,
      "outputs": [
        {
          "output_type": "execute_result",
          "data": {
            "text/plain": [
              "array([[-1.],\n",
              "       [-1.],\n",
              "       [-1.],\n",
              "       ...,\n",
              "       [ 1.],\n",
              "       [ 1.],\n",
              "       [ 1.]])"
            ]
          },
          "metadata": {},
          "execution_count": 23
        }
      ]
    },
    {
      "cell_type": "code",
      "source": [
        "from sklearn.preprocessing import OneHotEncoder\n",
        "categories = [-1, 0, 1]\n",
        "\n",
        "encoder = OneHotEncoder(categories=[categories])\n",
        "\n",
        "encoder_data = encoder.fit_transform(y.reshape(-1, 1))    # df[\"label\"] -> labelのseries, values -> arrayに, reshape(-1, 1) -> 1列, 行は自動推定\n",
        "y_one = encoder_data.toarray().astype('int64')"
      ],
      "metadata": {
        "id": "l3Pa-DKWUocm"
      },
      "execution_count": null,
      "outputs": []
    },
    {
      "cell_type": "code",
      "source": [
        "print(f'-1 = { y_one.sum(axis=0)[0] }, 0 = { y_one.sum(axis=0)[1] }, 1 = { y_one.sum(axis=0)[2] }')"
      ],
      "metadata": {
        "colab": {
          "base_uri": "https://localhost:8080/"
        },
        "id": "JSLrVT-W25Mw",
        "outputId": "72943343-10e1-4cf2-dac2-ca0d6b3185f5"
      },
      "execution_count": null,
      "outputs": [
        {
          "output_type": "stream",
          "name": "stdout",
          "text": [
            "-1 = 7597, 0 = 15672, 1 = 7836\n"
          ]
        }
      ]
    },
    {
      "cell_type": "markdown",
      "metadata": {
        "id": "HCWm75ZcXqJV"
      },
      "source": [
        "### データを学習用と検証用に分割"
      ]
    },
    {
      "cell_type": "markdown",
      "source": [
        "Xとyの対応を維持するためにも、shuffleをTrueにするならそのseed？を同じにしないといけないんじゃないか？？  \n",
        "これ https://qiita.com/KyleKatarn/items/2afa6787f04f28e2cd2d"
      ],
      "metadata": {
        "id": "yfG5UW_qE2Ga"
      }
    },
    {
      "cell_type": "code",
      "source": [
        "random_state = 20220508"
      ],
      "metadata": {
        "id": "jjNHjLaTQ1xx"
      },
      "execution_count": null,
      "outputs": []
    },
    {
      "cell_type": "code",
      "metadata": {
        "id": "8WantuCgX1Lf",
        "colab": {
          "base_uri": "https://localhost:8080/"
        },
        "outputId": "d7549b56-98a1-4fff-f545-1a98c50e39e4"
      },
      "source": [
        "X_train, X_test = train_test_split(X, train_size=0.8, test_size=0.2, shuffle=True, random_state=random_state)\n",
        "print(\"Train-Test size\", len(X_train), len(X_test))"
      ],
      "execution_count": null,
      "outputs": [
        {
          "output_type": "stream",
          "name": "stdout",
          "text": [
            "Train-Test size 24884 6221\n"
          ]
        }
      ]
    },
    {
      "cell_type": "code",
      "metadata": {
        "colab": {
          "base_uri": "https://localhost:8080/"
        },
        "id": "aj5Q4YdpSYKY",
        "outputId": "dcb00e1b-76c8-4248-a4ad-0f21061fc409"
      },
      "source": [
        "y_train, y_test = train_test_split(y_one, train_size=0.8, test_size=0.2, shuffle=True, random_state=random_state)\n",
        "print(\"Train-Test size\", len(y_train), len(y_test))"
      ],
      "execution_count": null,
      "outputs": [
        {
          "output_type": "stream",
          "name": "stdout",
          "text": [
            "Train-Test size 24884 6221\n"
          ]
        }
      ]
    },
    {
      "cell_type": "code",
      "source": [
        "y_train.sum(axis=0)"
      ],
      "metadata": {
        "colab": {
          "base_uri": "https://localhost:8080/"
        },
        "id": "myGz6JYqIPlV",
        "outputId": "f777d6f5-6aa1-4894-fd17-69924e5b9db0"
      },
      "execution_count": null,
      "outputs": [
        {
          "output_type": "execute_result",
          "data": {
            "text/plain": [
              "array([ 6077, 12580,  6227])"
            ]
          },
          "metadata": {},
          "execution_count": 34
        }
      ]
    },
    {
      "cell_type": "code",
      "source": [
        "y_test.sum(axis=0)"
      ],
      "metadata": {
        "colab": {
          "base_uri": "https://localhost:8080/"
        },
        "id": "h_LhkRvoISoY",
        "outputId": "fafd2606-e492-400f-9d11-7028aa5c1e91"
      },
      "execution_count": null,
      "outputs": [
        {
          "output_type": "execute_result",
          "data": {
            "text/plain": [
              "array([1520, 3092, 1609])"
            ]
          },
          "metadata": {},
          "execution_count": 35
        }
      ]
    },
    {
      "cell_type": "markdown",
      "metadata": {
        "id": "3AeQJeeXZDVa"
      },
      "source": [
        "データを分割しただけではindexは振り直されないようなので、明示的にリセットする（これを行わないと先頭が5,000～とかなってしまう）  \n",
        "と思ったけど、ndarrayだからそういうの関係ないか…（DataFrameだと上記が必要）"
      ]
    },
    {
      "cell_type": "code",
      "metadata": {
        "id": "-BM_GBuOXxbz"
      },
      "source": [
        "# y_train = y_train.reset_index(drop=True)\n",
        "# y_test = y_test.reset_index(drop=True)"
      ],
      "execution_count": null,
      "outputs": []
    },
    {
      "cell_type": "code",
      "source": [
        "# y_train.head()"
      ],
      "metadata": {
        "id": "1v4MirxnRRcJ"
      },
      "execution_count": null,
      "outputs": []
    },
    {
      "cell_type": "code",
      "source": [
        "# y_test.head()"
      ],
      "metadata": {
        "id": "M3oaxRs2a-H8"
      },
      "execution_count": null,
      "outputs": []
    },
    {
      "cell_type": "markdown",
      "source": [
        "### 半端なデータを切り捨てる"
      ],
      "metadata": {
        "id": "QaL6ufWnkbsd"
      }
    },
    {
      "cell_type": "code",
      "metadata": {
        "id": "bS5GwhmcBO7K"
      },
      "source": [
        "# バッチサイズからはみ出た要素を削除する\n",
        "def trim_dataset(input_data, batch_size):\n",
        "    no_of_rows_drop = input_data.shape[0]%batch_size\n",
        "    if no_of_rows_drop > 0:\n",
        "        return input_data[:-no_of_rows_drop]\n",
        "    else:\n",
        "        return input_data"
      ],
      "execution_count": null,
      "outputs": []
    },
    {
      "cell_type": "code",
      "metadata": {
        "colab": {
          "base_uri": "https://localhost:8080/"
        },
        "id": "mOUD9LekBu7Q",
        "outputId": "e158e5c6-d058-46fb-f242-c3c81e51cac9"
      },
      "source": [
        "x_t = trim_dataset(X_train, batch_size)   # 学習データ\n",
        "y_t = trim_dataset(y_train, batch_size)   # ラベルデータ\n",
        "print(\"Batch trimmed size\",X_train.shape, y_train.shape)"
      ],
      "execution_count": null,
      "outputs": [
        {
          "output_type": "stream",
          "name": "stdout",
          "text": [
            "Batch trimmed size (24884, 288, 10) (24884, 3)\n"
          ]
        }
      ]
    },
    {
      "cell_type": "code",
      "metadata": {
        "colab": {
          "base_uri": "https://localhost:8080/"
        },
        "id": "_IO9FZFwcBa3",
        "outputId": "6e8e583f-3175-464b-e607-b4e372be6db2"
      },
      "source": [
        "x_t[0][0] # 入力0個目のローソク0本目の各要素"
      ],
      "execution_count": null,
      "outputs": [
        {
          "output_type": "execute_result",
          "data": {
            "text/plain": [
              "array([0.54275064, 0.53936245, 0.53800434, 0.54014062, 0.42729109,\n",
              "       0.41320856, 0.37019487, 0.4074266 , 0.40641818, 0.49789862])"
            ]
          },
          "metadata": {},
          "execution_count": 38
        }
      ]
    },
    {
      "cell_type": "code",
      "metadata": {
        "colab": {
          "base_uri": "https://localhost:8080/"
        },
        "id": "Qk8z8QH_ce-L",
        "outputId": "cd69ffa5-00cf-4c5d-963c-54430d4ac02f"
      },
      "source": [
        "y_t[0]"
      ],
      "execution_count": null,
      "outputs": [
        {
          "output_type": "execute_result",
          "data": {
            "text/plain": [
              "array([0, 0, 1])"
            ]
          },
          "metadata": {},
          "execution_count": 39
        }
      ]
    },
    {
      "cell_type": "markdown",
      "source": [
        "### テスト用データをさらにvalidateとtestに分ける"
      ],
      "metadata": {
        "id": "FJbn81cQn6pZ"
      }
    },
    {
      "cell_type": "code",
      "metadata": {
        "id": "toRdKmt_LiC0"
      },
      "source": [
        "# validateは、ハイパーパラメータを決定するために使用するもの. 学習には使わない\n",
        "# testは、未知のデータに対する予測精度を評価するために使用するもの. 学習には使わない\n",
        "# x_temp, y_temp = build_timeseries(X_test, y_test, time_steps, output_gap)\n",
        "# x_val, x_test_t = np.split(trim_dataset(x_temp, batch_size),2)    # 予測のネタデータ\n",
        "# y_val, y_test_t = np.split(trim_dataset(y_temp, batch_size),2)    # ラベルデータ\n",
        "\n",
        "x_val, x_test_t = np.split(trim_dataset(X_test, batch_size),2)    # 予測のネタデータ\n",
        "y_val, y_test_t = np.split(trim_dataset(y_test, batch_size),2)    # ラベルデータ"
      ],
      "execution_count": null,
      "outputs": []
    },
    {
      "cell_type": "code",
      "metadata": {
        "colab": {
          "base_uri": "https://localhost:8080/"
        },
        "id": "6YjX7s3JdIC5",
        "outputId": "17ba28a1-9aee-49b2-8909-ca722ac4a90b"
      },
      "source": [
        "x_test_t[0][0]   # 1次元目:今回予測したいタイムフレーム数, 2:1タイムフレームにおける時間数(=足数), 3:特徴(列)数"
      ],
      "execution_count": null,
      "outputs": [
        {
          "output_type": "execute_result",
          "data": {
            "text/plain": [
              "array([0.18288421, 0.17075864, 0.17718324, 0.18091238, 0.36468064,\n",
              "       0.37800107, 0.3674795 , 0.41381693, 0.43598432, 0.53289304])"
            ]
          },
          "metadata": {},
          "execution_count": 41
        }
      ]
    },
    {
      "cell_type": "code",
      "metadata": {
        "colab": {
          "base_uri": "https://localhost:8080/"
        },
        "id": "kTCaIZnEdNPY",
        "outputId": "6e190f00-75f0-4ed1-897f-2e492dc58e56"
      },
      "source": [
        "y_test_t[0]"
      ],
      "execution_count": null,
      "outputs": [
        {
          "output_type": "execute_result",
          "data": {
            "text/plain": [
              "array([0, 1, 0])"
            ]
          },
          "metadata": {},
          "execution_count": 42
        }
      ]
    },
    {
      "cell_type": "markdown",
      "source": [
        "### データまとめ（確認用）"
      ],
      "metadata": {
        "id": "JbRQgZz2mOcc"
      }
    },
    {
      "cell_type": "code",
      "source": [
        "# モデル学習用データ\n",
        "x_t[:1]        # 予測対象データ(X)"
      ],
      "metadata": {
        "id": "l2Y6ePxboO1y",
        "colab": {
          "base_uri": "https://localhost:8080/"
        },
        "outputId": "0f6ad7f9-b8fb-40f4-9956-af84acee165c"
      },
      "execution_count": null,
      "outputs": [
        {
          "output_type": "execute_result",
          "data": {
            "text/plain": [
              "array([[[0.54275064, 0.53936245, 0.53800434, ..., 0.4074266 ,\n",
              "         0.40641818, 0.49789862],\n",
              "        [0.54150812, 0.53938628, 0.53809868, ..., 0.4074266 ,\n",
              "         0.41784599, 0.51265117],\n",
              "        [0.54181875, 0.53941012, 0.53820089, ..., 0.40708117,\n",
              "         0.41605209, 0.5105069 ],\n",
              "        ...,\n",
              "        [0.54950687, 0.54968377, 0.54988364, ..., 0.47702936,\n",
              "         0.44900671, 0.51831203],\n",
              "        [0.54950687, 0.54968377, 0.54988364, ..., 0.47599309,\n",
              "         0.44900671, 0.51882666],\n",
              "        [0.54772074, 0.54966787, 0.54982861, ..., 0.47685665,\n",
              "         0.463823  , 0.53752466]]])"
            ]
          },
          "metadata": {},
          "execution_count": 115
        }
      ]
    },
    {
      "cell_type": "code",
      "source": [
        "y_t[:1]        # 正解データ(Y)"
      ],
      "metadata": {
        "colab": {
          "base_uri": "https://localhost:8080/"
        },
        "id": "azOBYBmsYF5k",
        "outputId": "e65e962e-b978-455f-de7f-91debc0a4ed6"
      },
      "execution_count": null,
      "outputs": [
        {
          "output_type": "execute_result",
          "data": {
            "text/plain": [
              "array([[0, 0, 1]])"
            ]
          },
          "metadata": {},
          "execution_count": 116
        }
      ]
    },
    {
      "cell_type": "code",
      "source": [
        "# ハイパーパラメータ調整用データ\n",
        "x_val[:1]"
      ],
      "metadata": {
        "id": "wJd2pmy5mRrD",
        "colab": {
          "base_uri": "https://localhost:8080/"
        },
        "outputId": "d94fc20b-f1f5-4e88-d9ee-c9316e7c96a0"
      },
      "execution_count": null,
      "outputs": [
        {
          "output_type": "execute_result",
          "data": {
            "text/plain": [
              "array([[[0.42952551, 0.43590294, 0.43324476, ..., 0.57789292,\n",
              "         0.48980134, 0.52088515],\n",
              "        [0.42944785, 0.43581554, 0.43311897, ..., 0.5746114 ,\n",
              "         0.4894027 , 0.52200017],\n",
              "        [0.4304574 , 0.43572813, 0.43301676, ..., 0.57029361,\n",
              "         0.47990167, 0.51187923],\n",
              "        ...,\n",
              "        [0.42704046, 0.42418319, 0.42587031, ..., 0.46062176,\n",
              "         0.44874095, 0.52611716],\n",
              "        [0.42742875, 0.42419114, 0.42587817, ..., 0.46027634,\n",
              "         0.44548535, 0.52208594],\n",
              "        [0.42781704, 0.42419908, 0.4258939 , ..., 0.45958549,\n",
              "         0.44229619, 0.51831203]]])"
            ]
          },
          "metadata": {},
          "execution_count": 117
        }
      ]
    },
    {
      "cell_type": "code",
      "source": [
        "y_val[:1]"
      ],
      "metadata": {
        "colab": {
          "base_uri": "https://localhost:8080/"
        },
        "id": "2tp85rLUYXk1",
        "outputId": "aad4516f-12f6-4aab-a802-21c7f8649ad8"
      },
      "execution_count": null,
      "outputs": [
        {
          "output_type": "execute_result",
          "data": {
            "text/plain": [
              "array([[0, 1, 0]])"
            ]
          },
          "metadata": {},
          "execution_count": 118
        }
      ]
    },
    {
      "cell_type": "code",
      "source": [
        "# 評価用データ\n",
        "x_test_t[:1]"
      ],
      "metadata": {
        "id": "XghUzF7_nQS4",
        "colab": {
          "base_uri": "https://localhost:8080/"
        },
        "outputId": "dc2e938e-98f7-4f9e-9882-2e479c34be24"
      },
      "execution_count": null,
      "outputs": [
        {
          "output_type": "execute_result",
          "data": {
            "text/plain": [
              "array([[[0.18288421, 0.17075864, 0.17718324, ..., 0.41381693,\n",
              "         0.43598432, 0.53289304],\n",
              "        [0.18451503, 0.17081426, 0.17726186, ..., 0.41398964,\n",
              "         0.42269617, 0.51565314],\n",
              "        [0.18482566, 0.17086988, 0.17734834, ..., 0.41381693,\n",
              "         0.42076938, 0.51325157],\n",
              "        ...,\n",
              "        [0.18653413, 0.17824339, 0.1819161 , ..., 0.46165803,\n",
              "         0.4447545 , 0.5204563 ],\n",
              "        [0.18754368, 0.17825133, 0.18194755, ..., 0.45993092,\n",
              "         0.43638296, 0.5105069 ],\n",
              "        [0.18940747, 0.17828312, 0.18203403, ..., 0.45647668,\n",
              "         0.42116803, 0.49258084]]])"
            ]
          },
          "metadata": {},
          "execution_count": 120
        }
      ]
    },
    {
      "cell_type": "code",
      "source": [
        "y_test_t[:1]"
      ],
      "metadata": {
        "colab": {
          "base_uri": "https://localhost:8080/"
        },
        "id": "cKvMJr4SYf7I",
        "outputId": "44619f45-07dd-4d5f-def4-ecf84f862aed"
      },
      "execution_count": null,
      "outputs": [
        {
          "output_type": "execute_result",
          "data": {
            "text/plain": [
              "array([[0, 1, 0]])"
            ]
          },
          "metadata": {},
          "execution_count": 122
        }
      ]
    },
    {
      "cell_type": "markdown",
      "metadata": {
        "id": "zSOkrptzrDNV"
      },
      "source": [
        "## 分析の実施"
      ]
    },
    {
      "cell_type": "markdown",
      "metadata": {
        "id": "iZc53xhEsY1h"
      },
      "source": [
        "### モデルの作成"
      ]
    },
    {
      "cell_type": "code",
      "metadata": {
        "id": "MzxToc6AKtLH",
        "colab": {
          "base_uri": "https://localhost:8080/"
        },
        "outputId": "2eb4f114-b588-45c0-e3f9-b7398c22a481"
      },
      "source": [
        "# LSTMニューラルネットワークの構築\n",
        "model = Sequential()\n",
        "model.add(\n",
        "    LSTM(\n",
        "        NUM_MIDDLE,   # 中間層のレイヤーの数\n",
        "        batch_input_shape=(batch_size, time_steps, len(feature_columns)),   # inputの形\n",
        "        dropout=0.0,    # 過学習防止用. 意図的にニューロン間の接続を切る. 0.01で1%\n",
        "        recurrent_dropout=0.0,    # ？\n",
        "        stateful=True,    # 次バッチに状態を持ち越す\n",
        "        return_sequences=True,    # 1エポックの最終結果だけでなく、エポック中の時系列の途中途中も評価対象にする(https://qiita.com/everylittle/items/b6f08891c1da41f30b24)\n",
        "        kernel_initializer='random_uniform',  # 初期化\n",
        "      )\n",
        "    )\n",
        "model.add(Dropout(0.4))\n",
        "model.add(LSTM(60, dropout=0.0))\n",
        "model.add(Dropout(0.4))\n",
        "model.add(Dense(20, activation='relu'))\n",
        "model.add(Dense(y_t.shape[1], activation='softmax'))   # 出力サイズはOneHotで生成した列数にしたい\n",
        "\n",
        "optimizer = optimizers.Adam(lr=learning_rate)\n",
        "# model.compile(loss='mean_squared_error', optimizer=optimizer) # スカラ(将来の価格)を予測する場合はこちら\n",
        "model.compile(loss='categorical_crossentropy', optimizer=optimizer, metrics=[\"accuracy\"]) # \n",
        "model.summary()"
      ],
      "execution_count": null,
      "outputs": [
        {
          "output_type": "stream",
          "name": "stdout",
          "text": [
            "Model: \"sequential\"\n",
            "_________________________________________________________________\n",
            " Layer (type)                Output Shape              Param #   \n",
            "=================================================================\n",
            " lstm (LSTM)                 (32, 288, 200)            168800    \n",
            "                                                                 \n",
            " dropout (Dropout)           (32, 288, 200)            0         \n",
            "                                                                 \n",
            " lstm_1 (LSTM)               (32, 60)                  62640     \n",
            "                                                                 \n",
            " dropout_1 (Dropout)         (32, 60)                  0         \n",
            "                                                                 \n",
            " dense (Dense)               (32, 20)                  1220      \n",
            "                                                                 \n",
            " dense_1 (Dense)             (32, 3)                   63        \n",
            "                                                                 \n",
            "=================================================================\n",
            "Total params: 232,723\n",
            "Trainable params: 232,723\n",
            "Non-trainable params: 0\n",
            "_________________________________________________________________\n"
          ]
        },
        {
          "output_type": "stream",
          "name": "stderr",
          "text": [
            "/usr/local/lib/python3.7/dist-packages/keras/optimizer_v2/adam.py:105: UserWarning: The `lr` argument is deprecated, use `learning_rate` instead.\n",
            "  super(Adam, self).__init__(name, **kwargs)\n"
          ]
        }
      ]
    },
    {
      "cell_type": "markdown",
      "metadata": {
        "id": "fiYLLSqRsb9x"
      },
      "source": [
        "### 学習"
      ]
    },
    {
      "cell_type": "markdown",
      "metadata": {
        "id": "g_EI24jSyvU2"
      },
      "source": [
        "https://keras.io/ja/callbacks/"
      ]
    },
    {
      "cell_type": "code",
      "metadata": {
        "id": "F1S8d_usyRoG"
      },
      "source": [
        "# 監視する値の変化が停止した時に訓練を終了します\n",
        "es = EarlyStopping(\n",
        "    monitor='val_loss',     # 監視する値\n",
        "    mode='min',             # 監視する値の\"減少\"が停止した際に訓練終了\n",
        "    verbose=1,              # 冗長モード(0:結果非表示, 1:結果表示)\n",
        "    patience=5,             # 指定したエポック数、改善がないと訓練終了\n",
        "    min_delta=0.0001        # 改善したと判定される最小変化値\n",
        "    )"
      ],
      "execution_count": null,
      "outputs": []
    },
    {
      "cell_type": "code",
      "metadata": {
        "id": "hpl5ZYOrz6m8",
        "colab": {
          "base_uri": "https://localhost:8080/"
        },
        "outputId": "53960a01-2e5c-4bdf-9ff9-d24b39befd65"
      },
      "source": [
        "# 各エポック終了後にモデルを保存します(https://qiita.com/tom_eng_ltd/items/7ae0814c2d133431c84a)\n",
        "output = 'drive/MyDrive/FX/AI/model/best_model_USDJPY_5M_' + time.ctime().replace(\" \",\"_\") + '.h5'\n",
        "mcp = ModelCheckpoint(\n",
        "    output,                   # モデルファイルを保存するパス\n",
        "    monitor='val_loss',       # 監視する値\n",
        "    verbose=1,                # 冗長モード(0:結果非表示, 1:結果表示)\n",
        "    save_best_only=True,      # True:最良のモデルのみが書き出される(最新のモデルで上書きしない？)\n",
        "    save_weights_only=False,  # True:重みを保存, False:モデル全体を保存\n",
        "    mode='min',               # val_lossが変化量がminなら保存する、みたいな(val_accで判定するならmaxにする)\n",
        "    period=1                  # チェックポイント間の間隔(エポック数). save_best_only=Trueのとき無視(？)\n",
        "    )"
      ],
      "execution_count": null,
      "outputs": [
        {
          "output_type": "stream",
          "name": "stdout",
          "text": [
            "WARNING:tensorflow:`period` argument is deprecated. Please use `save_freq` to specify the frequency in number of batches seen.\n"
          ]
        }
      ]
    },
    {
      "cell_type": "code",
      "metadata": {
        "id": "DXLX6WGsKZg6"
      },
      "source": [
        "# 各エポックの結果をcsvファイルに保存するコールバックです\n",
        "logdir = \"drive/MyDrive/FX/AI/log/\"\n",
        "csv_logger = CSVLogger(\n",
        "    os.path.join(\n",
        "        logdir,               # 出力先ディレクトリ\n",
        "        'training_log_' + time.ctime().replace(\" \",\"_\") + '.log'),  # 出力ファイル名\n",
        "    append=True               # 追記モード\n",
        "    )"
      ],
      "execution_count": null,
      "outputs": []
    },
    {
      "cell_type": "code",
      "metadata": {
        "id": "5d9P6vTU6VZ-",
        "colab": {
          "base_uri": "https://localhost:8080/"
        },
        "outputId": "9738ba58-5044-45f0-f5f1-50b0d55a6a12"
      },
      "source": [
        "# 学習実施\n",
        "history = model.fit(\n",
        "    # 学習データ\n",
        "    x_t, \n",
        "    y_t, \n",
        "    epochs=epochs, \n",
        "    verbose=2, \n",
        "    batch_size=batch_size,\n",
        "    shuffle=False,\n",
        "    # 検証データ \n",
        "    validation_data=(\n",
        "        trim_dataset(x_val, batch_size),\n",
        "        trim_dataset(y_val, batch_size)\n",
        "      ), \n",
        "    callbacks=[es, mcp, csv_logger])"
      ],
      "execution_count": null,
      "outputs": [
        {
          "output_type": "stream",
          "name": "stdout",
          "text": [
            "Epoch 1/100\n",
            "\n",
            "Epoch 1: val_loss improved from inf to 1.04340, saving model to drive/MyDrive/FX/AI/model/best_model_USDJPY_5M_Sun_May__8_02:49:14_2022.h5\n",
            "777/777 - 26s - loss: 1.0411 - val_loss: 1.0434 - 26s/epoch - 34ms/step\n",
            "Epoch 2/100\n",
            "\n",
            "Epoch 2: val_loss improved from 1.04340 to 1.04290, saving model to drive/MyDrive/FX/AI/model/best_model_USDJPY_5M_Sun_May__8_02:49:14_2022.h5\n",
            "777/777 - 18s - loss: 1.0377 - val_loss: 1.0429 - 18s/epoch - 23ms/step\n",
            "Epoch 3/100\n",
            "\n",
            "Epoch 3: val_loss improved from 1.04290 to 1.04225, saving model to drive/MyDrive/FX/AI/model/best_model_USDJPY_5M_Sun_May__8_02:49:14_2022.h5\n",
            "777/777 - 18s - loss: 1.0370 - val_loss: 1.0422 - 18s/epoch - 23ms/step\n",
            "Epoch 4/100\n",
            "\n",
            "Epoch 4: val_loss improved from 1.04225 to 1.04182, saving model to drive/MyDrive/FX/AI/model/best_model_USDJPY_5M_Sun_May__8_02:49:14_2022.h5\n",
            "777/777 - 18s - loss: 1.0360 - val_loss: 1.0418 - 18s/epoch - 23ms/step\n",
            "Epoch 5/100\n",
            "\n",
            "Epoch 5: val_loss did not improve from 1.04182\n",
            "777/777 - 18s - loss: 1.0378 - val_loss: 1.0422 - 18s/epoch - 23ms/step\n",
            "Epoch 6/100\n",
            "\n",
            "Epoch 6: val_loss improved from 1.04182 to 1.04166, saving model to drive/MyDrive/FX/AI/model/best_model_USDJPY_5M_Sun_May__8_02:49:14_2022.h5\n",
            "777/777 - 18s - loss: 1.0349 - val_loss: 1.0417 - 18s/epoch - 23ms/step\n",
            "Epoch 7/100\n",
            "\n",
            "Epoch 7: val_loss did not improve from 1.04166\n",
            "777/777 - 18s - loss: 1.0351 - val_loss: 1.0417 - 18s/epoch - 23ms/step\n",
            "Epoch 8/100\n",
            "\n",
            "Epoch 8: val_loss improved from 1.04166 to 1.04100, saving model to drive/MyDrive/FX/AI/model/best_model_USDJPY_5M_Sun_May__8_02:49:14_2022.h5\n",
            "777/777 - 18s - loss: 1.0338 - val_loss: 1.0410 - 18s/epoch - 23ms/step\n",
            "Epoch 9/100\n",
            "\n",
            "Epoch 9: val_loss improved from 1.04100 to 1.04075, saving model to drive/MyDrive/FX/AI/model/best_model_USDJPY_5M_Sun_May__8_02:49:14_2022.h5\n",
            "777/777 - 18s - loss: 1.0334 - val_loss: 1.0407 - 18s/epoch - 23ms/step\n",
            "Epoch 10/100\n",
            "\n",
            "Epoch 10: val_loss improved from 1.04075 to 1.04058, saving model to drive/MyDrive/FX/AI/model/best_model_USDJPY_5M_Sun_May__8_02:49:14_2022.h5\n",
            "777/777 - 18s - loss: 1.0334 - val_loss: 1.0406 - 18s/epoch - 23ms/step\n",
            "Epoch 11/100\n",
            "\n",
            "Epoch 11: val_loss improved from 1.04058 to 1.04044, saving model to drive/MyDrive/FX/AI/model/best_model_USDJPY_5M_Sun_May__8_02:49:14_2022.h5\n",
            "777/777 - 18s - loss: 1.0326 - val_loss: 1.0404 - 18s/epoch - 23ms/step\n",
            "Epoch 12/100\n",
            "\n",
            "Epoch 12: val_loss did not improve from 1.04044\n",
            "777/777 - 18s - loss: 1.0350 - val_loss: 1.0474 - 18s/epoch - 23ms/step\n",
            "Epoch 13/100\n",
            "\n",
            "Epoch 13: val_loss did not improve from 1.04044\n",
            "777/777 - 18s - loss: 1.0403 - val_loss: 1.0437 - 18s/epoch - 23ms/step\n",
            "Epoch 14/100\n",
            "\n",
            "Epoch 14: val_loss improved from 1.04044 to 1.04031, saving model to drive/MyDrive/FX/AI/model/best_model_USDJPY_5M_Sun_May__8_02:49:14_2022.h5\n",
            "777/777 - 18s - loss: 1.0355 - val_loss: 1.0403 - 18s/epoch - 23ms/step\n",
            "Epoch 15/100\n",
            "\n",
            "Epoch 15: val_loss did not improve from 1.04031\n",
            "777/777 - 18s - loss: 1.0371 - val_loss: 1.0435 - 18s/epoch - 23ms/step\n",
            "Epoch 16/100\n",
            "\n",
            "Epoch 16: val_loss did not improve from 1.04031\n",
            "777/777 - 18s - loss: 1.0363 - val_loss: 1.0427 - 18s/epoch - 23ms/step\n",
            "Epoch 17/100\n",
            "\n",
            "Epoch 17: val_loss did not improve from 1.04031\n",
            "777/777 - 18s - loss: 1.0371 - val_loss: 1.0424 - 18s/epoch - 23ms/step\n",
            "Epoch 18/100\n",
            "\n",
            "Epoch 18: val_loss did not improve from 1.04031\n",
            "777/777 - 18s - loss: 1.0345 - val_loss: 1.0415 - 18s/epoch - 23ms/step\n",
            "Epoch 19/100\n",
            "\n",
            "Epoch 19: val_loss did not improve from 1.04031\n",
            "777/777 - 18s - loss: 1.0339 - val_loss: 1.0412 - 18s/epoch - 23ms/step\n",
            "Epoch 20/100\n",
            "\n",
            "Epoch 20: val_loss improved from 1.04031 to 1.04029, saving model to drive/MyDrive/FX/AI/model/best_model_USDJPY_5M_Sun_May__8_02:49:14_2022.h5\n",
            "777/777 - 18s - loss: 1.0326 - val_loss: 1.0403 - 18s/epoch - 23ms/step\n",
            "Epoch 21/100\n",
            "\n",
            "Epoch 21: val_loss did not improve from 1.04029\n",
            "777/777 - 18s - loss: 1.0324 - val_loss: 1.0406 - 18s/epoch - 23ms/step\n",
            "Epoch 22/100\n",
            "\n",
            "Epoch 22: val_loss improved from 1.04029 to 1.03987, saving model to drive/MyDrive/FX/AI/model/best_model_USDJPY_5M_Sun_May__8_02:49:14_2022.h5\n",
            "777/777 - 18s - loss: 1.0328 - val_loss: 1.0399 - 18s/epoch - 23ms/step\n",
            "Epoch 23/100\n",
            "\n",
            "Epoch 23: val_loss improved from 1.03987 to 1.03978, saving model to drive/MyDrive/FX/AI/model/best_model_USDJPY_5M_Sun_May__8_02:49:14_2022.h5\n",
            "777/777 - 18s - loss: 1.0323 - val_loss: 1.0398 - 18s/epoch - 23ms/step\n",
            "Epoch 24/100\n",
            "\n",
            "Epoch 24: val_loss improved from 1.03978 to 1.03884, saving model to drive/MyDrive/FX/AI/model/best_model_USDJPY_5M_Sun_May__8_02:49:14_2022.h5\n",
            "777/777 - 18s - loss: 1.0314 - val_loss: 1.0388 - 18s/epoch - 23ms/step\n",
            "Epoch 25/100\n",
            "\n",
            "Epoch 25: val_loss improved from 1.03884 to 1.03787, saving model to drive/MyDrive/FX/AI/model/best_model_USDJPY_5M_Sun_May__8_02:49:14_2022.h5\n",
            "777/777 - 18s - loss: 1.0317 - val_loss: 1.0379 - 18s/epoch - 23ms/step\n",
            "Epoch 26/100\n",
            "\n",
            "Epoch 26: val_loss did not improve from 1.03787\n",
            "777/777 - 18s - loss: 1.0314 - val_loss: 1.0391 - 18s/epoch - 23ms/step\n",
            "Epoch 27/100\n",
            "\n",
            "Epoch 27: val_loss improved from 1.03787 to 1.03730, saving model to drive/MyDrive/FX/AI/model/best_model_USDJPY_5M_Sun_May__8_02:49:14_2022.h5\n",
            "777/777 - 18s - loss: 1.0309 - val_loss: 1.0373 - 18s/epoch - 23ms/step\n",
            "Epoch 28/100\n",
            "\n",
            "Epoch 28: val_loss did not improve from 1.03730\n",
            "777/777 - 18s - loss: 1.0296 - val_loss: 1.0383 - 18s/epoch - 23ms/step\n",
            "Epoch 29/100\n",
            "\n",
            "Epoch 29: val_loss improved from 1.03730 to 1.03593, saving model to drive/MyDrive/FX/AI/model/best_model_USDJPY_5M_Sun_May__8_02:49:14_2022.h5\n",
            "777/777 - 18s - loss: 1.0292 - val_loss: 1.0359 - 18s/epoch - 23ms/step\n",
            "Epoch 30/100\n",
            "\n",
            "Epoch 30: val_loss improved from 1.03593 to 1.03537, saving model to drive/MyDrive/FX/AI/model/best_model_USDJPY_5M_Sun_May__8_02:49:14_2022.h5\n",
            "777/777 - 18s - loss: 1.0292 - val_loss: 1.0354 - 18s/epoch - 23ms/step\n",
            "Epoch 31/100\n",
            "\n",
            "Epoch 31: val_loss improved from 1.03537 to 1.03387, saving model to drive/MyDrive/FX/AI/model/best_model_USDJPY_5M_Sun_May__8_02:49:14_2022.h5\n",
            "777/777 - 18s - loss: 1.0280 - val_loss: 1.0339 - 18s/epoch - 23ms/step\n",
            "Epoch 32/100\n",
            "\n",
            "Epoch 32: val_loss improved from 1.03387 to 1.03385, saving model to drive/MyDrive/FX/AI/model/best_model_USDJPY_5M_Sun_May__8_02:49:14_2022.h5\n",
            "777/777 - 18s - loss: 1.0271 - val_loss: 1.0339 - 18s/epoch - 24ms/step\n",
            "Epoch 33/100\n",
            "\n",
            "Epoch 33: val_loss improved from 1.03385 to 1.03257, saving model to drive/MyDrive/FX/AI/model/best_model_USDJPY_5M_Sun_May__8_02:49:14_2022.h5\n",
            "777/777 - 18s - loss: 1.0272 - val_loss: 1.0326 - 18s/epoch - 23ms/step\n",
            "Epoch 34/100\n",
            "\n",
            "Epoch 34: val_loss did not improve from 1.03257\n",
            "777/777 - 18s - loss: 1.0262 - val_loss: 1.0328 - 18s/epoch - 23ms/step\n",
            "Epoch 35/100\n",
            "\n",
            "Epoch 35: val_loss improved from 1.03257 to 1.03177, saving model to drive/MyDrive/FX/AI/model/best_model_USDJPY_5M_Sun_May__8_02:49:14_2022.h5\n",
            "777/777 - 18s - loss: 1.0256 - val_loss: 1.0318 - 18s/epoch - 23ms/step\n",
            "Epoch 36/100\n",
            "\n",
            "Epoch 36: val_loss did not improve from 1.03177\n",
            "777/777 - 18s - loss: 1.0250 - val_loss: 1.0318 - 18s/epoch - 23ms/step\n",
            "Epoch 37/100\n",
            "\n",
            "Epoch 37: val_loss improved from 1.03177 to 1.03032, saving model to drive/MyDrive/FX/AI/model/best_model_USDJPY_5M_Sun_May__8_02:49:14_2022.h5\n",
            "777/777 - 18s - loss: 1.0239 - val_loss: 1.0303 - 18s/epoch - 23ms/step\n",
            "Epoch 38/100\n",
            "\n",
            "Epoch 38: val_loss improved from 1.03032 to 1.02958, saving model to drive/MyDrive/FX/AI/model/best_model_USDJPY_5M_Sun_May__8_02:49:14_2022.h5\n",
            "777/777 - 18s - loss: 1.0234 - val_loss: 1.0296 - 18s/epoch - 23ms/step\n",
            "Epoch 39/100\n",
            "\n",
            "Epoch 39: val_loss did not improve from 1.02958\n",
            "777/777 - 18s - loss: 1.0221 - val_loss: 1.0350 - 18s/epoch - 23ms/step\n",
            "Epoch 40/100\n",
            "\n",
            "Epoch 40: val_loss improved from 1.02958 to 1.02899, saving model to drive/MyDrive/FX/AI/model/best_model_USDJPY_5M_Sun_May__8_02:49:14_2022.h5\n",
            "777/777 - 18s - loss: 1.0216 - val_loss: 1.0290 - 18s/epoch - 23ms/step\n",
            "Epoch 41/100\n",
            "\n",
            "Epoch 41: val_loss improved from 1.02899 to 1.02594, saving model to drive/MyDrive/FX/AI/model/best_model_USDJPY_5M_Sun_May__8_02:49:14_2022.h5\n",
            "777/777 - 18s - loss: 1.0203 - val_loss: 1.0259 - 18s/epoch - 23ms/step\n",
            "Epoch 42/100\n",
            "\n",
            "Epoch 42: val_loss did not improve from 1.02594\n",
            "777/777 - 18s - loss: 1.0176 - val_loss: 1.0270 - 18s/epoch - 23ms/step\n",
            "Epoch 43/100\n",
            "\n",
            "Epoch 43: val_loss improved from 1.02594 to 1.02545, saving model to drive/MyDrive/FX/AI/model/best_model_USDJPY_5M_Sun_May__8_02:49:14_2022.h5\n",
            "777/777 - 18s - loss: 1.0171 - val_loss: 1.0254 - 18s/epoch - 23ms/step\n",
            "Epoch 44/100\n",
            "\n",
            "Epoch 44: val_loss improved from 1.02545 to 1.02465, saving model to drive/MyDrive/FX/AI/model/best_model_USDJPY_5M_Sun_May__8_02:49:14_2022.h5\n",
            "777/777 - 18s - loss: 1.0147 - val_loss: 1.0246 - 18s/epoch - 23ms/step\n",
            "Epoch 45/100\n",
            "\n",
            "Epoch 45: val_loss improved from 1.02465 to 1.02383, saving model to drive/MyDrive/FX/AI/model/best_model_USDJPY_5M_Sun_May__8_02:49:14_2022.h5\n",
            "777/777 - 18s - loss: 1.0129 - val_loss: 1.0238 - 18s/epoch - 23ms/step\n",
            "Epoch 46/100\n",
            "\n",
            "Epoch 46: val_loss improved from 1.02383 to 1.01914, saving model to drive/MyDrive/FX/AI/model/best_model_USDJPY_5M_Sun_May__8_02:49:14_2022.h5\n",
            "777/777 - 18s - loss: 1.0112 - val_loss: 1.0191 - 18s/epoch - 24ms/step\n",
            "Epoch 47/100\n",
            "\n",
            "Epoch 47: val_loss improved from 1.01914 to 1.01801, saving model to drive/MyDrive/FX/AI/model/best_model_USDJPY_5M_Sun_May__8_02:49:14_2022.h5\n",
            "777/777 - 18s - loss: 1.0111 - val_loss: 1.0180 - 18s/epoch - 23ms/step\n",
            "Epoch 48/100\n",
            "\n",
            "Epoch 48: val_loss did not improve from 1.01801\n",
            "777/777 - 18s - loss: 1.0096 - val_loss: 1.0182 - 18s/epoch - 23ms/step\n",
            "Epoch 49/100\n",
            "\n",
            "Epoch 49: val_loss improved from 1.01801 to 1.01641, saving model to drive/MyDrive/FX/AI/model/best_model_USDJPY_5M_Sun_May__8_02:49:14_2022.h5\n",
            "777/777 - 18s - loss: 1.0090 - val_loss: 1.0164 - 18s/epoch - 23ms/step\n",
            "Epoch 50/100\n",
            "\n",
            "Epoch 50: val_loss did not improve from 1.01641\n",
            "777/777 - 18s - loss: 1.0076 - val_loss: 1.0176 - 18s/epoch - 23ms/step\n",
            "Epoch 51/100\n",
            "\n",
            "Epoch 51: val_loss improved from 1.01641 to 1.01414, saving model to drive/MyDrive/FX/AI/model/best_model_USDJPY_5M_Sun_May__8_02:49:14_2022.h5\n",
            "777/777 - 18s - loss: 1.0075 - val_loss: 1.0141 - 18s/epoch - 23ms/step\n",
            "Epoch 52/100\n",
            "\n",
            "Epoch 52: val_loss improved from 1.01414 to 1.01236, saving model to drive/MyDrive/FX/AI/model/best_model_USDJPY_5M_Sun_May__8_02:49:14_2022.h5\n",
            "777/777 - 18s - loss: 1.0066 - val_loss: 1.0124 - 18s/epoch - 23ms/step\n",
            "Epoch 53/100\n",
            "\n",
            "Epoch 53: val_loss improved from 1.01236 to 1.01193, saving model to drive/MyDrive/FX/AI/model/best_model_USDJPY_5M_Sun_May__8_02:49:14_2022.h5\n",
            "777/777 - 18s - loss: 1.0045 - val_loss: 1.0119 - 18s/epoch - 23ms/step\n",
            "Epoch 54/100\n",
            "\n",
            "Epoch 54: val_loss did not improve from 1.01193\n",
            "777/777 - 18s - loss: 1.0068 - val_loss: 1.0156 - 18s/epoch - 23ms/step\n",
            "Epoch 55/100\n",
            "\n",
            "Epoch 55: val_loss improved from 1.01193 to 1.00964, saving model to drive/MyDrive/FX/AI/model/best_model_USDJPY_5M_Sun_May__8_02:49:14_2022.h5\n",
            "777/777 - 18s - loss: 1.0045 - val_loss: 1.0096 - 18s/epoch - 23ms/step\n",
            "Epoch 56/100\n",
            "\n",
            "Epoch 56: val_loss did not improve from 1.00964\n",
            "777/777 - 18s - loss: 1.0031 - val_loss: 1.0105 - 18s/epoch - 23ms/step\n",
            "Epoch 57/100\n",
            "\n",
            "Epoch 57: val_loss improved from 1.00964 to 1.00833, saving model to drive/MyDrive/FX/AI/model/best_model_USDJPY_5M_Sun_May__8_02:49:14_2022.h5\n",
            "777/777 - 18s - loss: 1.0011 - val_loss: 1.0083 - 18s/epoch - 23ms/step\n",
            "Epoch 58/100\n",
            "\n",
            "Epoch 58: val_loss improved from 1.00833 to 1.00802, saving model to drive/MyDrive/FX/AI/model/best_model_USDJPY_5M_Sun_May__8_02:49:14_2022.h5\n",
            "777/777 - 18s - loss: 0.9997 - val_loss: 1.0080 - 18s/epoch - 23ms/step\n",
            "Epoch 59/100\n",
            "\n",
            "Epoch 59: val_loss did not improve from 1.00802\n",
            "777/777 - 18s - loss: 0.9991 - val_loss: 1.0082 - 18s/epoch - 23ms/step\n",
            "Epoch 60/100\n",
            "\n",
            "Epoch 60: val_loss did not improve from 1.00802\n",
            "777/777 - 18s - loss: 1.0004 - val_loss: 1.0119 - 18s/epoch - 23ms/step\n",
            "Epoch 61/100\n",
            "\n",
            "Epoch 61: val_loss improved from 1.00802 to 1.00766, saving model to drive/MyDrive/FX/AI/model/best_model_USDJPY_5M_Sun_May__8_02:49:14_2022.h5\n",
            "777/777 - 18s - loss: 0.9988 - val_loss: 1.0077 - 18s/epoch - 23ms/step\n",
            "Epoch 62/100\n",
            "\n",
            "Epoch 62: val_loss improved from 1.00766 to 1.00677, saving model to drive/MyDrive/FX/AI/model/best_model_USDJPY_5M_Sun_May__8_02:49:14_2022.h5\n",
            "777/777 - 18s - loss: 0.9969 - val_loss: 1.0068 - 18s/epoch - 24ms/step\n",
            "Epoch 63/100\n",
            "\n",
            "Epoch 63: val_loss improved from 1.00677 to 1.00660, saving model to drive/MyDrive/FX/AI/model/best_model_USDJPY_5M_Sun_May__8_02:49:14_2022.h5\n",
            "777/777 - 18s - loss: 0.9961 - val_loss: 1.0066 - 18s/epoch - 23ms/step\n",
            "Epoch 64/100\n",
            "\n",
            "Epoch 64: val_loss did not improve from 1.00660\n",
            "777/777 - 18s - loss: 0.9966 - val_loss: 1.0078 - 18s/epoch - 23ms/step\n",
            "Epoch 65/100\n",
            "\n",
            "Epoch 65: val_loss improved from 1.00660 to 1.00634, saving model to drive/MyDrive/FX/AI/model/best_model_USDJPY_5M_Sun_May__8_02:49:14_2022.h5\n",
            "777/777 - 18s - loss: 0.9955 - val_loss: 1.0063 - 18s/epoch - 23ms/step\n",
            "Epoch 66/100\n",
            "\n",
            "Epoch 66: val_loss improved from 1.00634 to 1.00447, saving model to drive/MyDrive/FX/AI/model/best_model_USDJPY_5M_Sun_May__8_02:49:14_2022.h5\n",
            "777/777 - 18s - loss: 0.9942 - val_loss: 1.0045 - 18s/epoch - 23ms/step\n",
            "Epoch 67/100\n",
            "\n",
            "Epoch 67: val_loss did not improve from 1.00447\n",
            "777/777 - 18s - loss: 0.9944 - val_loss: 1.0047 - 18s/epoch - 23ms/step\n",
            "Epoch 68/100\n",
            "\n",
            "Epoch 68: val_loss did not improve from 1.00447\n",
            "777/777 - 18s - loss: 0.9931 - val_loss: 1.0049 - 18s/epoch - 23ms/step\n",
            "Epoch 69/100\n",
            "\n",
            "Epoch 69: val_loss improved from 1.00447 to 1.00322, saving model to drive/MyDrive/FX/AI/model/best_model_USDJPY_5M_Sun_May__8_02:49:14_2022.h5\n",
            "777/777 - 18s - loss: 0.9912 - val_loss: 1.0032 - 18s/epoch - 23ms/step\n",
            "Epoch 70/100\n",
            "\n",
            "Epoch 70: val_loss improved from 1.00322 to 1.00303, saving model to drive/MyDrive/FX/AI/model/best_model_USDJPY_5M_Sun_May__8_02:49:14_2022.h5\n",
            "777/777 - 18s - loss: 0.9899 - val_loss: 1.0030 - 18s/epoch - 23ms/step\n",
            "Epoch 71/100\n",
            "\n",
            "Epoch 71: val_loss did not improve from 1.00303\n",
            "777/777 - 18s - loss: 0.9901 - val_loss: 1.0054 - 18s/epoch - 23ms/step\n",
            "Epoch 72/100\n",
            "\n",
            "Epoch 72: val_loss did not improve from 1.00303\n",
            "777/777 - 18s - loss: 0.9891 - val_loss: 1.0030 - 18s/epoch - 23ms/step\n",
            "Epoch 73/100\n",
            "\n",
            "Epoch 73: val_loss did not improve from 1.00303\n",
            "777/777 - 18s - loss: 0.9878 - val_loss: 1.0060 - 18s/epoch - 23ms/step\n",
            "Epoch 74/100\n",
            "\n",
            "Epoch 74: val_loss improved from 1.00303 to 1.00267, saving model to drive/MyDrive/FX/AI/model/best_model_USDJPY_5M_Sun_May__8_02:49:14_2022.h5\n",
            "777/777 - 18s - loss: 0.9872 - val_loss: 1.0027 - 18s/epoch - 23ms/step\n",
            "Epoch 75/100\n",
            "\n",
            "Epoch 75: val_loss did not improve from 1.00267\n",
            "777/777 - 18s - loss: 1.0445 - val_loss: 1.0432 - 18s/epoch - 23ms/step\n",
            "Epoch 76/100\n",
            "\n",
            "Epoch 76: val_loss did not improve from 1.00267\n",
            "777/777 - 18s - loss: 1.0389 - val_loss: 1.0421 - 18s/epoch - 23ms/step\n",
            "Epoch 77/100\n",
            "\n",
            "Epoch 77: val_loss did not improve from 1.00267\n",
            "777/777 - 18s - loss: 1.0110 - val_loss: 1.0208 - 18s/epoch - 23ms/step\n",
            "Epoch 78/100\n",
            "\n",
            "Epoch 78: val_loss did not improve from 1.00267\n",
            "777/777 - 18s - loss: 0.9985 - val_loss: 1.0039 - 18s/epoch - 23ms/step\n",
            "Epoch 79/100\n",
            "\n",
            "Epoch 79: val_loss improved from 1.00267 to 1.00170, saving model to drive/MyDrive/FX/AI/model/best_model_USDJPY_5M_Sun_May__8_02:49:14_2022.h5\n",
            "777/777 - 18s - loss: 0.9941 - val_loss: 1.0017 - 18s/epoch - 23ms/step\n",
            "Epoch 80/100\n",
            "\n",
            "Epoch 80: val_loss improved from 1.00170 to 1.00095, saving model to drive/MyDrive/FX/AI/model/best_model_USDJPY_5M_Sun_May__8_02:49:14_2022.h5\n",
            "777/777 - 18s - loss: 0.9895 - val_loss: 1.0009 - 18s/epoch - 23ms/step\n",
            "Epoch 81/100\n",
            "\n",
            "Epoch 81: val_loss improved from 1.00095 to 0.99893, saving model to drive/MyDrive/FX/AI/model/best_model_USDJPY_5M_Sun_May__8_02:49:14_2022.h5\n",
            "777/777 - 18s - loss: 0.9867 - val_loss: 0.9989 - 18s/epoch - 23ms/step\n",
            "Epoch 82/100\n",
            "\n",
            "Epoch 82: val_loss did not improve from 0.99893\n",
            "777/777 - 18s - loss: 0.9868 - val_loss: 1.0035 - 18s/epoch - 23ms/step\n",
            "Epoch 83/100\n",
            "\n",
            "Epoch 83: val_loss did not improve from 0.99893\n",
            "777/777 - 18s - loss: 0.9856 - val_loss: 1.0013 - 18s/epoch - 23ms/step\n",
            "Epoch 84/100\n",
            "\n",
            "Epoch 84: val_loss improved from 0.99893 to 0.99679, saving model to drive/MyDrive/FX/AI/model/best_model_USDJPY_5M_Sun_May__8_02:49:14_2022.h5\n",
            "777/777 - 18s - loss: 0.9853 - val_loss: 0.9968 - 18s/epoch - 24ms/step\n",
            "Epoch 85/100\n",
            "\n",
            "Epoch 85: val_loss did not improve from 0.99679\n",
            "777/777 - 18s - loss: 0.9830 - val_loss: 1.0003 - 18s/epoch - 23ms/step\n",
            "Epoch 86/100\n",
            "\n",
            "Epoch 86: val_loss did not improve from 0.99679\n",
            "777/777 - 18s - loss: 0.9833 - val_loss: 1.0023 - 18s/epoch - 23ms/step\n",
            "Epoch 87/100\n",
            "\n",
            "Epoch 87: val_loss did not improve from 0.99679\n",
            "777/777 - 18s - loss: 0.9810 - val_loss: 1.0021 - 18s/epoch - 23ms/step\n",
            "Epoch 88/100\n",
            "\n",
            "Epoch 88: val_loss did not improve from 0.99679\n",
            "777/777 - 18s - loss: 0.9806 - val_loss: 0.9998 - 18s/epoch - 23ms/step\n",
            "Epoch 89/100\n",
            "\n",
            "Epoch 89: val_loss did not improve from 0.99679\n",
            "777/777 - 18s - loss: 0.9786 - val_loss: 1.0002 - 18s/epoch - 23ms/step\n",
            "Epoch 90/100\n",
            "\n",
            "Epoch 90: val_loss did not improve from 0.99679\n",
            "777/777 - 18s - loss: 0.9760 - val_loss: 1.0028 - 18s/epoch - 23ms/step\n",
            "Epoch 91/100\n",
            "\n",
            "Epoch 91: val_loss did not improve from 0.99679\n",
            "777/777 - 18s - loss: 0.9763 - val_loss: 0.9984 - 18s/epoch - 23ms/step\n",
            "Epoch 92/100\n",
            "\n",
            "Epoch 92: val_loss improved from 0.99679 to 0.99649, saving model to drive/MyDrive/FX/AI/model/best_model_USDJPY_5M_Sun_May__8_02:49:14_2022.h5\n",
            "777/777 - 18s - loss: 0.9753 - val_loss: 0.9965 - 18s/epoch - 23ms/step\n",
            "Epoch 93/100\n",
            "\n",
            "Epoch 93: val_loss did not improve from 0.99649\n",
            "777/777 - 18s - loss: 0.9738 - val_loss: 0.9984 - 18s/epoch - 23ms/step\n",
            "Epoch 94/100\n",
            "\n",
            "Epoch 94: val_loss did not improve from 0.99649\n",
            "777/777 - 18s - loss: 0.9732 - val_loss: 0.9989 - 18s/epoch - 23ms/step\n",
            "Epoch 95/100\n",
            "\n",
            "Epoch 95: val_loss did not improve from 0.99649\n",
            "777/777 - 18s - loss: 0.9721 - val_loss: 0.9976 - 18s/epoch - 23ms/step\n",
            "Epoch 96/100\n",
            "\n",
            "Epoch 96: val_loss improved from 0.99649 to 0.99472, saving model to drive/MyDrive/FX/AI/model/best_model_USDJPY_5M_Sun_May__8_02:49:14_2022.h5\n",
            "777/777 - 18s - loss: 0.9707 - val_loss: 0.9947 - 18s/epoch - 23ms/step\n",
            "Epoch 97/100\n",
            "\n",
            "Epoch 97: val_loss did not improve from 0.99472\n",
            "777/777 - 18s - loss: 0.9698 - val_loss: 1.0000 - 18s/epoch - 23ms/step\n",
            "Epoch 98/100\n",
            "\n",
            "Epoch 98: val_loss did not improve from 0.99472\n",
            "777/777 - 18s - loss: 0.9692 - val_loss: 0.9960 - 18s/epoch - 23ms/step\n",
            "Epoch 99/100\n",
            "\n",
            "Epoch 99: val_loss did not improve from 0.99472\n",
            "777/777 - 18s - loss: 0.9672 - val_loss: 0.9984 - 18s/epoch - 23ms/step\n",
            "Epoch 100/100\n",
            "\n",
            "Epoch 100: val_loss improved from 0.99472 to 0.99451, saving model to drive/MyDrive/FX/AI/model/best_model_USDJPY_5M_Sun_May__8_02:49:14_2022.h5\n",
            "777/777 - 18s - loss: 0.9670 - val_loss: 0.9945 - 18s/epoch - 23ms/step\n"
          ]
        }
      ]
    },
    {
      "cell_type": "code",
      "source": [
        "# Plot training & validation accuracy values\n",
        "plt.plot(history.history['acc'])\n",
        "plt.plot(history.history['val_acc'])\n",
        "plt.title('Model accuracy')\n",
        "plt.ylabel('Accuracy')\n",
        "plt.xlabel('Epoch')\n",
        "plt.legend(['Train', 'Test'], loc='upper left')\n",
        "plt.show()"
      ],
      "metadata": {
        "id": "868aB0wQt1ID"
      },
      "execution_count": null,
      "outputs": []
    },
    {
      "cell_type": "code",
      "source": [
        "# Plot training & validation loss values\n",
        "plt.plot(history.history['loss'])\n",
        "plt.plot(history.history['val_loss'])\n",
        "plt.title('Model loss')\n",
        "plt.ylabel('Loss')\n",
        "plt.xlabel('Epoch')\n",
        "plt.legend(['Train', 'Test'], loc='upper left')\n",
        "plt.show()"
      ],
      "metadata": {
        "colab": {
          "base_uri": "https://localhost:8080/",
          "height": 295
        },
        "id": "DwItyQ54tf8z",
        "outputId": "a0a37771-2db0-4e94-c1e5-1af9a929dc65"
      },
      "execution_count": null,
      "outputs": [
        {
          "output_type": "display_data",
          "data": {
            "text/plain": [
              "<Figure size 432x288 with 1 Axes>"
            ],
            "image/png": "[encoded data removed]"
          },
          "metadata": {
            "needs_background": "light"
          }
        }
      ]
    },
    {
      "cell_type": "markdown",
      "metadata": {
        "id": "Qb3c2ifdse-U"
      },
      "source": [
        "## 結果の検証"
      ]
    },
    {
      "cell_type": "code",
      "metadata": {
        "id": "Rwe_SQCOIk9j"
      },
      "source": [
        "# テストデータ\n",
        "x_real = trim_dataset(x_test_t, batch_size)\n",
        "y_real = trim_dataset(y_test_t, batch_size)"
      ],
      "execution_count": null,
      "outputs": []
    },
    {
      "cell_type": "code",
      "metadata": {
        "id": "N_TD0YdaIDlF"
      },
      "source": [
        "# モデル読み込み\n",
        "input_modelfile = output\n",
        "model = load_model(input_modelfile)"
      ],
      "execution_count": null,
      "outputs": []
    },
    {
      "cell_type": "code",
      "metadata": {
        "colab": {
          "base_uri": "https://localhost:8080/"
        },
        "id": "MarrRrTLsxIQ",
        "outputId": "41458b3b-e7ad-45bb-908a-474b5f6f6616"
      },
      "source": [
        "x_real.shape"
      ],
      "execution_count": null,
      "outputs": [
        {
          "output_type": "execute_result",
          "data": {
            "text/plain": [
              "(3104, 288, 10)"
            ]
          },
          "metadata": {},
          "execution_count": 60
        }
      ]
    },
    {
      "cell_type": "code",
      "metadata": {
        "id": "99LaFosuKmbm"
      },
      "source": [
        "# numpyの要素ごとに正規化を行う\n",
        "# - input: 入力データ\n",
        "# - output_index: 特徴量の列番号\n",
        "def min_max_scaler_converter(input, output_index):\n",
        "    output = []\n",
        "    data_range = []\n",
        "    data_shift = []\n",
        "\n",
        "    for row in input: # 1次元目を取り出す(rowとか言うけど、実態はtime_steps行、14列の行列)\n",
        "        scaler = MinMaxScaler()                               # 以下の配列については次が詳しい→http://taustation.com/sklearn-preprocessing/\n",
        "        output.append(scaler.fit_transform(row))              # 正規化後データ\n",
        "        data_range.append(scaler.data_range_[output_index])   # 最大値－最小値のレンジ. 正規化の復元に使用\n",
        "        data_shift.append(scaler.data_min_[output_index])     # データセット中の各特徴量の最小値. 正規化の復元に使用\n",
        "    \n",
        "    return np.array(output), data_range, data_shift"
      ],
      "execution_count": null,
      "outputs": []
    },
    {
      "cell_type": "code",
      "metadata": {
        "id": "hAxAVxKIIWtl"
      },
      "source": [
        "# 入力データを正規化\n",
        "output_index=0\n",
        "x_real, data_range, data_shift = min_max_scaler_converter(x_real, output_index)"
      ],
      "execution_count": null,
      "outputs": []
    },
    {
      "cell_type": "code",
      "metadata": {
        "colab": {
          "base_uri": "https://localhost:8080/"
        },
        "id": "oqOGTdN2eQGH",
        "outputId": "38b99c7b-f5e2-4cbc-94b8-a8f270507483"
      },
      "source": [
        "x_real[0][0]"
      ],
      "execution_count": null,
      "outputs": [
        {
          "output_type": "execute_result",
          "data": {
            "text/plain": [
              "array([0.32119205, 0.        , 0.04700855, 0.30564784, 0.41210375,\n",
              "       0.343441  , 0.53220697, 0.28823529, 0.54614767, 0.58736942])"
            ]
          },
          "metadata": {},
          "execution_count": 63
        }
      ]
    },
    {
      "cell_type": "code",
      "metadata": {
        "colab": {
          "base_uri": "https://localhost:8080/"
        },
        "id": "d-_kfofzfTrg",
        "outputId": "39497087-e6c0-47c7-ea7b-0b3694c0fc95"
      },
      "source": [
        "x_real.shape"
      ],
      "execution_count": null,
      "outputs": [
        {
          "output_type": "execute_result",
          "data": {
            "text/plain": [
              "(3104, 288, 10)"
            ]
          },
          "metadata": {},
          "execution_count": 64
        }
      ]
    },
    {
      "cell_type": "code",
      "metadata": {
        "colab": {
          "base_uri": "https://localhost:8080/"
        },
        "id": "HN1yYhNcfEpO",
        "outputId": "87478239-a2d9-4124-bb69-355d33926427"
      },
      "source": [
        "len(data_range)"
      ],
      "execution_count": null,
      "outputs": [
        {
          "output_type": "execute_result",
          "data": {
            "text/plain": [
              "3104"
            ]
          },
          "metadata": {},
          "execution_count": 65
        }
      ]
    },
    {
      "cell_type": "code",
      "metadata": {
        "colab": {
          "base_uri": "https://localhost:8080/"
        },
        "id": "zu5ktHjkeSoD",
        "outputId": "8a71ace5-5b78-43d1-d98a-a95027409e06"
      },
      "source": [
        "data_range[0:2]"
      ],
      "execution_count": null,
      "outputs": [
        {
          "output_type": "execute_result",
          "data": {
            "text/plain": [
              "[0.023452667546790096, 0.03269395045429668]"
            ]
          },
          "metadata": {},
          "execution_count": 66
        }
      ]
    },
    {
      "cell_type": "code",
      "metadata": {
        "id": "NfeiWsPBKtuO",
        "colab": {
          "base_uri": "https://localhost:8080/"
        },
        "outputId": "23ca56c8-7e8d-4f2d-c734-1244932625d6"
      },
      "source": [
        "# 予測を実行\n",
        "y_pred = model.predict(trim_dataset(x_real, batch_size), batch_size=batch_size)   # yの予測値\n",
        "\n",
        "# y_pred = y_pred.flatten()   # numpyのflatten. 1次元にする. flattenはコピーを返す(https://note.nkmk.me/python-numpy-ravel-flatten/)\n",
        "y_real = trim_dataset(y_real, batch_size)   # yの正解値\n",
        "error = mean_squared_error(y_real, y_pred)  # 予測値と正解値の平均二乗誤差を取る\n",
        "print(\"Error is\", error, y_pred.shape, y_real.shape)\n"
      ],
      "execution_count": null,
      "outputs": [
        {
          "output_type": "stream",
          "name": "stdout",
          "text": [
            "Error is 0.2658256169037694 (3104, 3) (3104, 3)\n"
          ]
        }
      ]
    },
    {
      "cell_type": "code",
      "metadata": {
        "colab": {
          "base_uri": "https://localhost:8080/"
        },
        "id": "dpqcU105qSM1",
        "outputId": "21945ff7-51aa-4960-a734-963362697aaf"
      },
      "source": [
        "y_pred[0]"
      ],
      "execution_count": null,
      "outputs": [
        {
          "output_type": "execute_result",
          "data": {
            "text/plain": [
              "array([0.26287764, 0.25023848, 0.48688388], dtype=float32)"
            ]
          },
          "metadata": {},
          "execution_count": 68
        }
      ]
    },
    {
      "cell_type": "code",
      "metadata": {
        "colab": {
          "base_uri": "https://localhost:8080/"
        },
        "id": "ekG8-3i1yC4f",
        "outputId": "7736356a-5578-4cfc-a9fb-21b60bd0d7b2"
      },
      "source": [
        "y_pred.shape"
      ],
      "execution_count": null,
      "outputs": [
        {
          "output_type": "execute_result",
          "data": {
            "text/plain": [
              "(3104, 3)"
            ]
          },
          "metadata": {},
          "execution_count": 69
        }
      ]
    },
    {
      "cell_type": "code",
      "metadata": {
        "id": "5tBrlkYGwGU4",
        "colab": {
          "base_uri": "https://localhost:8080/"
        },
        "outputId": "101699b0-55c9-408b-a82f-ae2f522f049a"
      },
      "source": [
        "np.argmax(y_pred, axis=1)"
      ],
      "execution_count": null,
      "outputs": [
        {
          "output_type": "execute_result",
          "data": {
            "text/plain": [
              "array([2, 0, 2, ..., 0, 0, 0])"
            ]
          },
          "metadata": {},
          "execution_count": 70
        }
      ]
    },
    {
      "cell_type": "code",
      "metadata": {
        "id": "Bp9X5G1iyyRg",
        "colab": {
          "base_uri": "https://localhost:8080/"
        },
        "outputId": "872495e7-7095-47ba-942b-c87d9691722a"
      },
      "source": [
        "np.argmax(y_real, axis=1)"
      ],
      "execution_count": null,
      "outputs": [
        {
          "output_type": "execute_result",
          "data": {
            "text/plain": [
              "array([1, 1, 2, ..., 1, 0, 2])"
            ]
          },
          "metadata": {},
          "execution_count": 71
        }
      ]
    },
    {
      "cell_type": "code",
      "metadata": {
        "colab": {
          "base_uri": "https://localhost:8080/"
        },
        "id": "alqCAXsizAFe",
        "outputId": "54a6f9da-6887-4562-b859-257858a02be2"
      },
      "source": [
        "y_real[10:20]"
      ],
      "execution_count": null,
      "outputs": [
        {
          "output_type": "execute_result",
          "data": {
            "text/plain": [
              "array([[0, 0, 1],\n",
              "       [1, 0, 0],\n",
              "       [1, 0, 0],\n",
              "       [1, 0, 0],\n",
              "       [0, 1, 0],\n",
              "       [0, 1, 0],\n",
              "       [0, 1, 0],\n",
              "       [0, 1, 0],\n",
              "       [0, 1, 0],\n",
              "       [1, 0, 0]])"
            ]
          },
          "metadata": {},
          "execution_count": 72
        }
      ]
    },
    {
      "cell_type": "code",
      "metadata": {
        "colab": {
          "base_uri": "https://localhost:8080/"
        },
        "id": "DZkhWXC1xaGx",
        "outputId": "e2c91104-9fd6-4d58-acb8-33314cc0d89b"
      },
      "source": [
        "error = mean_squared_error(np.argmax(y_real, axis=1), np.argmax(y_pred, axis=1))  # y_predだと小数になっててちゃんと比較できてるのか怪しいのでargmaxする\n",
        "print(\"Error is\", error, y_pred.shape, y_real.shape)"
      ],
      "execution_count": null,
      "outputs": [
        {
          "output_type": "stream",
          "name": "stdout",
          "text": [
            "Error is 1.3356958762886597 (3104, 3) (3104, 3)\n"
          ]
        }
      ]
    },
    {
      "cell_type": "code",
      "metadata": {
        "colab": {
          "base_uri": "https://localhost:8080/",
          "height": 81
        },
        "id": "MPrXtn06r136",
        "outputId": "56531787-a1db-4add-add2-af1cf72aae9d"
      },
      "source": [
        "pd.DataFrame(pd.Series(np.argmax(y_real, axis=1).ravel()).describe()).transpose()"
      ],
      "execution_count": null,
      "outputs": [
        {
          "output_type": "execute_result",
          "data": {
            "text/plain": [
              "    count      mean       std  min  25%  50%  75%  max\n",
              "0  3104.0  1.014175  0.705253  0.0  1.0  1.0  2.0  2.0"
            ],
            "text/html": [
              "\n",
              "  <div id=\"df-757a753a-2b77-418b-97d5-5341fd2f2e19\">\n",
              "    <div class=\"colab-df-container\">\n",
              "      <div>\n",
              "<style scoped>\n",
              "    .dataframe tbody tr th:only-of-type {\n",
              "        vertical-align: middle;\n",
              "    }\n",
              "\n",
              "    .dataframe tbody tr th {\n",
              "        vertical-align: top;\n",
              "    }\n",
              "\n",
              "    .dataframe thead th {\n",
              "        text-align: right;\n",
              "    }\n",
              "</style>\n",
              "<table border=\"1\" class=\"dataframe\">\n",
              "  <thead>\n",
              "    <tr style=\"text-align: right;\">\n",
              "      <th></th>\n",
              "      <th>count</th>\n",
              "      <th>mean</th>\n",
              "      <th>std</th>\n",
              "      <th>min</th>\n",
              "      <th>25%</th>\n",
              "      <th>50%</th>\n",
              "      <th>75%</th>\n",
              "      <th>max</th>\n",
              "    </tr>\n",
              "  </thead>\n",
              "  <tbody>\n",
              "    <tr>\n",
              "      <th>0</th>\n",
              "      <td>3104.0</td>\n",
              "      <td>1.014175</td>\n",
              "      <td>0.705253</td>\n",
              "      <td>0.0</td>\n",
              "      <td>1.0</td>\n",
              "      <td>1.0</td>\n",
              "      <td>2.0</td>\n",
              "      <td>2.0</td>\n",
              "    </tr>\n",
              "  </tbody>\n",
              "</table>\n",
              "</div>\n",
              "      <button class=\"colab-df-convert\" onclick=\"convertToInteractive('df-757a753a-2b77-418b-97d5-5341fd2f2e19')\"\n",
              "              title=\"Convert this dataframe to an interactive table.\"\n",
              "              style=\"display:none;\">\n",
              "        \n",
              "  <svg xmlns=\"http://www.w3.org/2000/svg\" height=\"24px\"viewBox=\"0 0 24 24\"\n",
              "       width=\"24px\">\n",
              "    <path d=\"M0 0h24v24H0V0z\" fill=\"none\"/>\n",
              "    <path d=\"M18.56 5.44l.94 2.06.94-2.06 2.06-.94-2.06-.94-.94-2.06-.94 2.06-2.06.94zm-11 1L8.5 8.5l.94-2.06 2.06-.94-2.06-.94L8.5 2.5l-.94 2.06-2.06.94zm10 10l.94 2.06.94-2.06 2.06-.94-2.06-.94-.94-2.06-.94 2.06-2.06.94z\"/><path d=\"M17.41 7.96l-1.37-1.37c-.4-.4-.92-.59-1.43-.59-.52 0-1.04.2-1.43.59L10.3 9.45l-7.72 7.72c-.78.78-.78 2.05 0 2.83L4 21.41c.39.39.9.59 1.41.59.51 0 1.02-.2 1.41-.59l7.78-7.78 2.81-2.81c.8-.78.8-2.07 0-2.86zM5.41 20L4 18.59l7.72-7.72 1.47 1.35L5.41 20z\"/>\n",
              "  </svg>\n",
              "      </button>\n",
              "      \n",
              "  <style>\n",
              "    .colab-df-container {\n",
              "      display:flex;\n",
              "      flex-wrap:wrap;\n",
              "      gap: 12px;\n",
              "    }\n",
              "\n",
              "    .colab-df-convert {\n",
              "      background-color: #E8F0FE;\n",
              "      border: none;\n",
              "      border-radius: 50%;\n",
              "      cursor: pointer;\n",
              "      display: none;\n",
              "      fill: #1967D2;\n",
              "      height: 32px;\n",
              "      padding: 0 0 0 0;\n",
              "      width: 32px;\n",
              "    }\n",
              "\n",
              "    .colab-df-convert:hover {\n",
              "      background-color: #E2EBFA;\n",
              "      box-shadow: 0px 1px 2px rgba(60, 64, 67, 0.3), 0px 1px 3px 1px rgba(60, 64, 67, 0.15);\n",
              "      fill: #174EA6;\n",
              "    }\n",
              "\n",
              "    [theme=dark] .colab-df-convert {\n",
              "      background-color: #3B4455;\n",
              "      fill: #D2E3FC;\n",
              "    }\n",
              "\n",
              "    [theme=dark] .colab-df-convert:hover {\n",
              "      background-color: #434B5C;\n",
              "      box-shadow: 0px 1px 3px 1px rgba(0, 0, 0, 0.15);\n",
              "      filter: drop-shadow(0px 1px 2px rgba(0, 0, 0, 0.3));\n",
              "      fill: #FFFFFF;\n",
              "    }\n",
              "  </style>\n",
              "\n",
              "      <script>\n",
              "        const buttonEl =\n",
              "          document.querySelector('#df-757a753a-2b77-418b-97d5-5341fd2f2e19 button.colab-df-convert');\n",
              "        buttonEl.style.display =\n",
              "          google.colab.kernel.accessAllowed ? 'block' : 'none';\n",
              "\n",
              "        async function convertToInteractive(key) {\n",
              "          const element = document.querySelector('#df-757a753a-2b77-418b-97d5-5341fd2f2e19');\n",
              "          const dataTable =\n",
              "            await google.colab.kernel.invokeFunction('convertToInteractive',\n",
              "                                                     [key], {});\n",
              "          if (!dataTable) return;\n",
              "\n",
              "          const docLinkHtml = 'Like what you see? Visit the ' +\n",
              "            '<a target=\"_blank\" href=https://colab.research.google.com/notebooks/data_table.ipynb>data table notebook</a>'\n",
              "            + ' to learn more about interactive tables.';\n",
              "          element.innerHTML = '';\n",
              "          dataTable['output_type'] = 'display_data';\n",
              "          await google.colab.output.renderOutput(dataTable, element);\n",
              "          const docLink = document.createElement('div');\n",
              "          docLink.innerHTML = docLinkHtml;\n",
              "          element.appendChild(docLink);\n",
              "        }\n",
              "      </script>\n",
              "    </div>\n",
              "  </div>\n",
              "  "
            ]
          },
          "metadata": {},
          "execution_count": 74
        }
      ]
    },
    {
      "cell_type": "code",
      "metadata": {
        "colab": {
          "base_uri": "https://localhost:8080/",
          "height": 81
        },
        "id": "aoDevlH_s9Sk",
        "outputId": "c9a3b16e-09ab-457b-bd68-1d6bd1a983c3"
      },
      "source": [
        "# 正解データの内訳\n",
        "pd.DataFrame(pd.Series(np.argmax(y_real, axis=1).ravel()).value_counts()).transpose()"
      ],
      "execution_count": null,
      "outputs": [
        {
          "output_type": "execute_result",
          "data": {
            "text/plain": [
              "      1    2    0\n",
              "0  1560  794  750"
            ],
            "text/html": [
              "\n",
              "  <div id=\"df-ff55e918-fbf7-49d4-8c70-999b5da739fa\">\n",
              "    <div class=\"colab-df-container\">\n",
              "      <div>\n",
              "<style scoped>\n",
              "    .dataframe tbody tr th:only-of-type {\n",
              "        vertical-align: middle;\n",
              "    }\n",
              "\n",
              "    .dataframe tbody tr th {\n",
              "        vertical-align: top;\n",
              "    }\n",
              "\n",
              "    .dataframe thead th {\n",
              "        text-align: right;\n",
              "    }\n",
              "</style>\n",
              "<table border=\"1\" class=\"dataframe\">\n",
              "  <thead>\n",
              "    <tr style=\"text-align: right;\">\n",
              "      <th></th>\n",
              "      <th>1</th>\n",
              "      <th>2</th>\n",
              "      <th>0</th>\n",
              "    </tr>\n",
              "  </thead>\n",
              "  <tbody>\n",
              "    <tr>\n",
              "      <th>0</th>\n",
              "      <td>1560</td>\n",
              "      <td>794</td>\n",
              "      <td>750</td>\n",
              "    </tr>\n",
              "  </tbody>\n",
              "</table>\n",
              "</div>\n",
              "      <button class=\"colab-df-convert\" onclick=\"convertToInteractive('df-ff55e918-fbf7-49d4-8c70-999b5da739fa')\"\n",
              "              title=\"Convert this dataframe to an interactive table.\"\n",
              "              style=\"display:none;\">\n",
              "        \n",
              "  <svg xmlns=\"http://www.w3.org/2000/svg\" height=\"24px\"viewBox=\"0 0 24 24\"\n",
              "       width=\"24px\">\n",
              "    <path d=\"M0 0h24v24H0V0z\" fill=\"none\"/>\n",
              "    <path d=\"M18.56 5.44l.94 2.06.94-2.06 2.06-.94-2.06-.94-.94-2.06-.94 2.06-2.06.94zm-11 1L8.5 8.5l.94-2.06 2.06-.94-2.06-.94L8.5 2.5l-.94 2.06-2.06.94zm10 10l.94 2.06.94-2.06 2.06-.94-2.06-.94-.94-2.06-.94 2.06-2.06.94z\"/><path d=\"M17.41 7.96l-1.37-1.37c-.4-.4-.92-.59-1.43-.59-.52 0-1.04.2-1.43.59L10.3 9.45l-7.72 7.72c-.78.78-.78 2.05 0 2.83L4 21.41c.39.39.9.59 1.41.59.51 0 1.02-.2 1.41-.59l7.78-7.78 2.81-2.81c.8-.78.8-2.07 0-2.86zM5.41 20L4 18.59l7.72-7.72 1.47 1.35L5.41 20z\"/>\n",
              "  </svg>\n",
              "      </button>\n",
              "      \n",
              "  <style>\n",
              "    .colab-df-container {\n",
              "      display:flex;\n",
              "      flex-wrap:wrap;\n",
              "      gap: 12px;\n",
              "    }\n",
              "\n",
              "    .colab-df-convert {\n",
              "      background-color: #E8F0FE;\n",
              "      border: none;\n",
              "      border-radius: 50%;\n",
              "      cursor: pointer;\n",
              "      display: none;\n",
              "      fill: #1967D2;\n",
              "      height: 32px;\n",
              "      padding: 0 0 0 0;\n",
              "      width: 32px;\n",
              "    }\n",
              "\n",
              "    .colab-df-convert:hover {\n",
              "      background-color: #E2EBFA;\n",
              "      box-shadow: 0px 1px 2px rgba(60, 64, 67, 0.3), 0px 1px 3px 1px rgba(60, 64, 67, 0.15);\n",
              "      fill: #174EA6;\n",
              "    }\n",
              "\n",
              "    [theme=dark] .colab-df-convert {\n",
              "      background-color: #3B4455;\n",
              "      fill: #D2E3FC;\n",
              "    }\n",
              "\n",
              "    [theme=dark] .colab-df-convert:hover {\n",
              "      background-color: #434B5C;\n",
              "      box-shadow: 0px 1px 3px 1px rgba(0, 0, 0, 0.15);\n",
              "      filter: drop-shadow(0px 1px 2px rgba(0, 0, 0, 0.3));\n",
              "      fill: #FFFFFF;\n",
              "    }\n",
              "  </style>\n",
              "\n",
              "      <script>\n",
              "        const buttonEl =\n",
              "          document.querySelector('#df-ff55e918-fbf7-49d4-8c70-999b5da739fa button.colab-df-convert');\n",
              "        buttonEl.style.display =\n",
              "          google.colab.kernel.accessAllowed ? 'block' : 'none';\n",
              "\n",
              "        async function convertToInteractive(key) {\n",
              "          const element = document.querySelector('#df-ff55e918-fbf7-49d4-8c70-999b5da739fa');\n",
              "          const dataTable =\n",
              "            await google.colab.kernel.invokeFunction('convertToInteractive',\n",
              "                                                     [key], {});\n",
              "          if (!dataTable) return;\n",
              "\n",
              "          const docLinkHtml = 'Like what you see? Visit the ' +\n",
              "            '<a target=\"_blank\" href=https://colab.research.google.com/notebooks/data_table.ipynb>data table notebook</a>'\n",
              "            + ' to learn more about interactive tables.';\n",
              "          element.innerHTML = '';\n",
              "          dataTable['output_type'] = 'display_data';\n",
              "          await google.colab.output.renderOutput(dataTable, element);\n",
              "          const docLink = document.createElement('div');\n",
              "          docLink.innerHTML = docLinkHtml;\n",
              "          element.appendChild(docLink);\n",
              "        }\n",
              "      </script>\n",
              "    </div>\n",
              "  </div>\n",
              "  "
            ]
          },
          "metadata": {},
          "execution_count": 75
        }
      ]
    },
    {
      "cell_type": "code",
      "metadata": {
        "colab": {
          "base_uri": "https://localhost:8080/",
          "height": 81
        },
        "id": "IYVEt0Twtdtm",
        "outputId": "ae4ee86c-a555-45f2-c1d5-907fb37a17a9"
      },
      "source": [
        "# 予測結果の内訳\n",
        "pd.DataFrame(pd.Series(np.argmax(y_pred, axis=1).ravel()).value_counts()).transpose()"
      ],
      "execution_count": null,
      "outputs": [
        {
          "output_type": "execute_result",
          "data": {
            "text/plain": [
              "      0    2    1\n",
              "0  1515  951  638"
            ],
            "text/html": [
              "\n",
              "  <div id=\"df-ec6ac415-98d2-42f3-bc20-381fcc88cb53\">\n",
              "    <div class=\"colab-df-container\">\n",
              "      <div>\n",
              "<style scoped>\n",
              "    .dataframe tbody tr th:only-of-type {\n",
              "        vertical-align: middle;\n",
              "    }\n",
              "\n",
              "    .dataframe tbody tr th {\n",
              "        vertical-align: top;\n",
              "    }\n",
              "\n",
              "    .dataframe thead th {\n",
              "        text-align: right;\n",
              "    }\n",
              "</style>\n",
              "<table border=\"1\" class=\"dataframe\">\n",
              "  <thead>\n",
              "    <tr style=\"text-align: right;\">\n",
              "      <th></th>\n",
              "      <th>0</th>\n",
              "      <th>2</th>\n",
              "      <th>1</th>\n",
              "    </tr>\n",
              "  </thead>\n",
              "  <tbody>\n",
              "    <tr>\n",
              "      <th>0</th>\n",
              "      <td>1515</td>\n",
              "      <td>951</td>\n",
              "      <td>638</td>\n",
              "    </tr>\n",
              "  </tbody>\n",
              "</table>\n",
              "</div>\n",
              "      <button class=\"colab-df-convert\" onclick=\"convertToInteractive('df-ec6ac415-98d2-42f3-bc20-381fcc88cb53')\"\n",
              "              title=\"Convert this dataframe to an interactive table.\"\n",
              "              style=\"display:none;\">\n",
              "        \n",
              "  <svg xmlns=\"http://www.w3.org/2000/svg\" height=\"24px\"viewBox=\"0 0 24 24\"\n",
              "       width=\"24px\">\n",
              "    <path d=\"M0 0h24v24H0V0z\" fill=\"none\"/>\n",
              "    <path d=\"M18.56 5.44l.94 2.06.94-2.06 2.06-.94-2.06-.94-.94-2.06-.94 2.06-2.06.94zm-11 1L8.5 8.5l.94-2.06 2.06-.94-2.06-.94L8.5 2.5l-.94 2.06-2.06.94zm10 10l.94 2.06.94-2.06 2.06-.94-2.06-.94-.94-2.06-.94 2.06-2.06.94z\"/><path d=\"M17.41 7.96l-1.37-1.37c-.4-.4-.92-.59-1.43-.59-.52 0-1.04.2-1.43.59L10.3 9.45l-7.72 7.72c-.78.78-.78 2.05 0 2.83L4 21.41c.39.39.9.59 1.41.59.51 0 1.02-.2 1.41-.59l7.78-7.78 2.81-2.81c.8-.78.8-2.07 0-2.86zM5.41 20L4 18.59l7.72-7.72 1.47 1.35L5.41 20z\"/>\n",
              "  </svg>\n",
              "      </button>\n",
              "      \n",
              "  <style>\n",
              "    .colab-df-container {\n",
              "      display:flex;\n",
              "      flex-wrap:wrap;\n",
              "      gap: 12px;\n",
              "    }\n",
              "\n",
              "    .colab-df-convert {\n",
              "      background-color: #E8F0FE;\n",
              "      border: none;\n",
              "      border-radius: 50%;\n",
              "      cursor: pointer;\n",
              "      display: none;\n",
              "      fill: #1967D2;\n",
              "      height: 32px;\n",
              "      padding: 0 0 0 0;\n",
              "      width: 32px;\n",
              "    }\n",
              "\n",
              "    .colab-df-convert:hover {\n",
              "      background-color: #E2EBFA;\n",
              "      box-shadow: 0px 1px 2px rgba(60, 64, 67, 0.3), 0px 1px 3px 1px rgba(60, 64, 67, 0.15);\n",
              "      fill: #174EA6;\n",
              "    }\n",
              "\n",
              "    [theme=dark] .colab-df-convert {\n",
              "      background-color: #3B4455;\n",
              "      fill: #D2E3FC;\n",
              "    }\n",
              "\n",
              "    [theme=dark] .colab-df-convert:hover {\n",
              "      background-color: #434B5C;\n",
              "      box-shadow: 0px 1px 3px 1px rgba(0, 0, 0, 0.15);\n",
              "      filter: drop-shadow(0px 1px 2px rgba(0, 0, 0, 0.3));\n",
              "      fill: #FFFFFF;\n",
              "    }\n",
              "  </style>\n",
              "\n",
              "      <script>\n",
              "        const buttonEl =\n",
              "          document.querySelector('#df-ec6ac415-98d2-42f3-bc20-381fcc88cb53 button.colab-df-convert');\n",
              "        buttonEl.style.display =\n",
              "          google.colab.kernel.accessAllowed ? 'block' : 'none';\n",
              "\n",
              "        async function convertToInteractive(key) {\n",
              "          const element = document.querySelector('#df-ec6ac415-98d2-42f3-bc20-381fcc88cb53');\n",
              "          const dataTable =\n",
              "            await google.colab.kernel.invokeFunction('convertToInteractive',\n",
              "                                                     [key], {});\n",
              "          if (!dataTable) return;\n",
              "\n",
              "          const docLinkHtml = 'Like what you see? Visit the ' +\n",
              "            '<a target=\"_blank\" href=https://colab.research.google.com/notebooks/data_table.ipynb>data table notebook</a>'\n",
              "            + ' to learn more about interactive tables.';\n",
              "          element.innerHTML = '';\n",
              "          dataTable['output_type'] = 'display_data';\n",
              "          await google.colab.output.renderOutput(dataTable, element);\n",
              "          const docLink = document.createElement('div');\n",
              "          docLink.innerHTML = docLinkHtml;\n",
              "          element.appendChild(docLink);\n",
              "        }\n",
              "      </script>\n",
              "    </div>\n",
              "  </div>\n",
              "  "
            ]
          },
          "metadata": {},
          "execution_count": 76
        }
      ]
    },
    {
      "cell_type": "markdown",
      "metadata": {
        "id": "hn1cOkS4zo1N"
      },
      "source": [
        "予測結果を判定<br>\n",
        "https://note.nkmk.me/python-sklearn-confusion-matrix-score/"
      ]
    },
    {
      "cell_type": "code",
      "metadata": {
        "colab": {
          "base_uri": "https://localhost:8080/"
        },
        "id": "bc8bNdxJpo_5",
        "outputId": "f0c9164b-fc35-4786-cdd8-278de7dfc11f"
      },
      "source": [
        "# 混同行列 横軸:予測, 縦軸:正解\n",
        "# -------------------------------\n",
        "#         予測 0  予測 3  予測 4 \n",
        "# 正解 0  ①      ②\n",
        "# 正解 3\n",
        "# 正解 4\n",
        "# -------------------------------\n",
        "# ①:正解が0で、予測も0だったパターン\n",
        "# ②:正解が0で、予測は3だったパターン（＝予測失敗）\n",
        "# ←多次元だとできないっぽい, ので、argmaxを適用してlabelのインデックスどうしを比較する\n",
        "confusion_matrix(np.argmax(y_real, axis=1), np.argmax(y_pred, axis=1))"
      ],
      "execution_count": null,
      "outputs": [
        {
          "output_type": "execute_result",
          "data": {
            "text/plain": [
              "array([[358, 145, 247],\n",
              "       [746, 342, 472],\n",
              "       [411, 151, 232]])"
            ]
          },
          "metadata": {},
          "execution_count": 77
        }
      ]
    },
    {
      "cell_type": "code",
      "metadata": {
        "colab": {
          "base_uri": "https://localhost:8080/"
        },
        "id": "Ou04gPUSzQtn",
        "outputId": "6f9325a5-d55a-4298-fc87-b408cf621d99"
      },
      "source": [
        "# 正解率\n",
        "from sklearn.metrics import accuracy_score\n",
        "accuracy_score(np.argmax(y_real, axis=1), np.argmax(y_pred, axis=1))"
      ],
      "execution_count": null,
      "outputs": [
        {
          "output_type": "execute_result",
          "data": {
            "text/plain": [
              "0.3002577319587629"
            ]
          },
          "metadata": {},
          "execution_count": 78
        }
      ]
    },
    {
      "cell_type": "code",
      "metadata": {
        "colab": {
          "base_uri": "https://localhost:8080/",
          "height": 185
        },
        "id": "AJ0S3Hydz89m",
        "outputId": "f2883a07-fd61-4f1c-9c27-5f3bda5e509b"
      },
      "source": [
        "# まとめて分析\n",
        "from sklearn.metrics import classification_report\n",
        "classification_report(np.argmax(y_real, axis=1), np.argmax(y_pred, axis=1))"
      ],
      "execution_count": null,
      "outputs": [
        {
          "output_type": "stream",
          "name": "stderr",
          "text": [
            "/usr/local/lib/python3.7/dist-packages/sklearn/metrics/_classification.py:1318: UndefinedMetricWarning: Precision and F-score are ill-defined and being set to 0.0 in labels with no predicted samples. Use `zero_division` parameter to control this behavior.\n",
            "  _warn_prf(average, modifier, msg_start, len(result))\n",
            "/usr/local/lib/python3.7/dist-packages/sklearn/metrics/_classification.py:1318: UndefinedMetricWarning: Precision and F-score are ill-defined and being set to 0.0 in labels with no predicted samples. Use `zero_division` parameter to control this behavior.\n",
            "  _warn_prf(average, modifier, msg_start, len(result))\n",
            "/usr/local/lib/python3.7/dist-packages/sklearn/metrics/_classification.py:1318: UndefinedMetricWarning: Precision and F-score are ill-defined and being set to 0.0 in labels with no predicted samples. Use `zero_division` parameter to control this behavior.\n",
            "  _warn_prf(average, modifier, msg_start, len(result))\n"
          ]
        },
        {
          "output_type": "execute_result",
          "data": {
            "text/plain": [
              "'              precision    recall  f1-score   support\\n\\n           0       0.22      0.12      0.16       750\\n           1       0.50      0.86      0.63      1560\\n           2       0.00      0.00      0.00       794\\n\\n    accuracy                           0.46      3104\\n   macro avg       0.24      0.33      0.26      3104\\nweighted avg       0.30      0.46      0.35      3104\\n'"
            ],
            "application/vnd.google.colaboratory.intrinsic+json": {
              "type": "string"
            }
          },
          "metadata": {},
          "execution_count": 155
        }
      ]
    },
    {
      "cell_type": "code",
      "metadata": {
        "colab": {
          "base_uri": "https://localhost:8080/",
          "height": 265
        },
        "id": "xHkt8iYjLryu",
        "outputId": "45113c38-6cf2-4085-f2e3-a1f2af6d709a"
      },
      "source": [
        "fig = plt.figure()\n",
        "plt.plot(np.argmax(y_pred, axis=1)[:10])\n",
        "plt.plot(np.argmax(y_real, axis=1)[:10])\n",
        "plt.legend(['Prediction', 'Real'], loc='upper left')\n",
        "plt.show()\n",
        "plt.close(fig)"
      ],
      "execution_count": null,
      "outputs": [
        {
          "output_type": "display_data",
          "data": {
            "text/plain": [
              "<Figure size 432x288 with 1 Axes>"
            ],
            "image/png": "[encoded data removed]"
          },
          "metadata": {
            "needs_background": "light"
          }
        }
      ]
    },
    {
      "cell_type": "code",
      "metadata": {
        "id": "nKm2vsEGYpxU",
        "colab": {
          "base_uri": "https://localhost:8080/"
        },
        "outputId": "a90b43ca-5b23-453f-f4c8-3d803c0f00f9"
      },
      "source": [
        "# どの予測結果が一番可能性が高かったか\n",
        "np.argmax(y_pred, axis=1)"
      ],
      "execution_count": null,
      "outputs": [
        {
          "output_type": "execute_result",
          "data": {
            "text/plain": [
              "array([1, 1, 0, ..., 1, 1, 1])"
            ]
          },
          "metadata": {},
          "execution_count": 157
        }
      ]
    },
    {
      "cell_type": "code",
      "source": [
        ""
      ],
      "metadata": {
        "id": "QTDvR4OkmOb2"
      },
      "execution_count": null,
      "outputs": []
    }
  ]
}