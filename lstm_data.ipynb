{
  "nbformat": 4,
  "nbformat_minor": 0,
  "metadata": {
    "colab": {
      "name": "lstm_data",
      "provenance": [],
      "collapsed_sections": [],
      "toc_visible": true,
      "mount_file_id": "1dRjzv2RJsuuw6qvvkQ7ieAhK93mVeCjp",
      "authorship_tag": "ABX9TyMMd+KdPdf3Aotk69p44J6Q"
    },
    "kernelspec": {
      "name": "python3",
      "display_name": "Python 3"
    },
    "language_info": {
      "name": "python"
    },
    "widgets": {
      "application/vnd.jupyter.widget-state+json": {
        "b59a7eec99f344eaa70f718062850455": {
          "model_module": "@jupyter-widgets/controls",
          "model_name": "HBoxModel",
          "model_module_version": "1.5.0",
          "state": {
            "_dom_classes": [],
            "_model_module": "@jupyter-widgets/controls",
            "_model_module_version": "1.5.0",
            "_model_name": "HBoxModel",
            "_view_count": null,
            "_view_module": "@jupyter-widgets/controls",
            "_view_module_version": "1.5.0",
            "_view_name": "HBoxView",
            "box_style": "",
            "children": [
              "IPY_MODEL_8311672638de45549aaab8d73b3f809a",
              "IPY_MODEL_9df71594208b41e3a98052921fe59c32",
              "IPY_MODEL_9cb9f51506d34e7f8404988ad3f0be89"
            ],
            "layout": "IPY_MODEL_8028eafe7c0f4cdb8617d440316636eb"
          }
        },
        "8311672638de45549aaab8d73b3f809a": {
          "model_module": "@jupyter-widgets/controls",
          "model_name": "HTMLModel",
          "model_module_version": "1.5.0",
          "state": {
            "_dom_classes": [],
            "_model_module": "@jupyter-widgets/controls",
            "_model_module_version": "1.5.0",
            "_model_name": "HTMLModel",
            "_view_count": null,
            "_view_module": "@jupyter-widgets/controls",
            "_view_module_version": "1.5.0",
            "_view_name": "HTMLView",
            "description": "",
            "description_tooltip": null,
            "layout": "IPY_MODEL_cfcd390c269f45e485be458f8a87e4b1",
            "placeholder": "​",
            "style": "IPY_MODEL_7b98d04c40224791a9eb0a1407bca847",
            "value": ""
          }
        },
        "9df71594208b41e3a98052921fe59c32": {
          "model_module": "@jupyter-widgets/controls",
          "model_name": "FloatProgressModel",
          "model_module_version": "1.5.0",
          "state": {
            "_dom_classes": [],
            "_model_module": "@jupyter-widgets/controls",
            "_model_module_version": "1.5.0",
            "_model_name": "FloatProgressModel",
            "_view_count": null,
            "_view_module": "@jupyter-widgets/controls",
            "_view_module_version": "1.5.0",
            "_view_name": "ProgressView",
            "bar_style": "success",
            "description": "",
            "description_tooltip": null,
            "layout": "IPY_MODEL_9a95472c25454276a7fac7604470a80c",
            "max": 1,
            "min": 0,
            "orientation": "horizontal",
            "style": "IPY_MODEL_64da71e9c9714fe8848ad0cad8b50d6e",
            "value": 1
          }
        },
        "9cb9f51506d34e7f8404988ad3f0be89": {
          "model_module": "@jupyter-widgets/controls",
          "model_name": "HTMLModel",
          "model_module_version": "1.5.0",
          "state": {
            "_dom_classes": [],
            "_model_module": "@jupyter-widgets/controls",
            "_model_module_version": "1.5.0",
            "_model_name": "HTMLModel",
            "_view_count": null,
            "_view_module": "@jupyter-widgets/controls",
            "_view_module_version": "1.5.0",
            "_view_name": "HTMLView",
            "description": "",
            "description_tooltip": null,
            "layout": "IPY_MODEL_5396295fa7c8419e8fe7f4e44f03c06d",
            "placeholder": "​",
            "style": "IPY_MODEL_2ab5db0b035c4816b977ffa279267f30",
            "value": " 2972/? [00:00&lt;00:00, 5366.95it/s]"
          }
        },
        "8028eafe7c0f4cdb8617d440316636eb": {
          "model_module": "@jupyter-widgets/base",
          "model_name": "LayoutModel",
          "model_module_version": "1.2.0",
          "state": {
            "_model_module": "@jupyter-widgets/base",
            "_model_module_version": "1.2.0",
            "_model_name": "LayoutModel",
            "_view_count": null,
            "_view_module": "@jupyter-widgets/base",
            "_view_module_version": "1.2.0",
            "_view_name": "LayoutView",
            "align_content": null,
            "align_items": null,
            "align_self": null,
            "border": null,
            "bottom": null,
            "display": null,
            "flex": null,
            "flex_flow": null,
            "grid_area": null,
            "grid_auto_columns": null,
            "grid_auto_flow": null,
            "grid_auto_rows": null,
            "grid_column": null,
            "grid_gap": null,
            "grid_row": null,
            "grid_template_areas": null,
            "grid_template_columns": null,
            "grid_template_rows": null,
            "height": null,
            "justify_content": null,
            "justify_items": null,
            "left": null,
            "margin": null,
            "max_height": null,
            "max_width": null,
            "min_height": null,
            "min_width": null,
            "object_fit": null,
            "object_position": null,
            "order": null,
            "overflow": null,
            "overflow_x": null,
            "overflow_y": null,
            "padding": null,
            "right": null,
            "top": null,
            "visibility": null,
            "width": null
          }
        },
        "cfcd390c269f45e485be458f8a87e4b1": {
          "model_module": "@jupyter-widgets/base",
          "model_name": "LayoutModel",
          "model_module_version": "1.2.0",
          "state": {
            "_model_module": "@jupyter-widgets/base",
            "_model_module_version": "1.2.0",
            "_model_name": "LayoutModel",
            "_view_count": null,
            "_view_module": "@jupyter-widgets/base",
            "_view_module_version": "1.2.0",
            "_view_name": "LayoutView",
            "align_content": null,
            "align_items": null,
            "align_self": null,
            "border": null,
            "bottom": null,
            "display": null,
            "flex": null,
            "flex_flow": null,
            "grid_area": null,
            "grid_auto_columns": null,
            "grid_auto_flow": null,
            "grid_auto_rows": null,
            "grid_column": null,
            "grid_gap": null,
            "grid_row": null,
            "grid_template_areas": null,
            "grid_template_columns": null,
            "grid_template_rows": null,
            "height": null,
            "justify_content": null,
            "justify_items": null,
            "left": null,
            "margin": null,
            "max_height": null,
            "max_width": null,
            "min_height": null,
            "min_width": null,
            "object_fit": null,
            "object_position": null,
            "order": null,
            "overflow": null,
            "overflow_x": null,
            "overflow_y": null,
            "padding": null,
            "right": null,
            "top": null,
            "visibility": null,
            "width": null
          }
        },
        "7b98d04c40224791a9eb0a1407bca847": {
          "model_module": "@jupyter-widgets/controls",
          "model_name": "DescriptionStyleModel",
          "model_module_version": "1.5.0",
          "state": {
            "_model_module": "@jupyter-widgets/controls",
            "_model_module_version": "1.5.0",
            "_model_name": "DescriptionStyleModel",
            "_view_count": null,
            "_view_module": "@jupyter-widgets/base",
            "_view_module_version": "1.2.0",
            "_view_name": "StyleView",
            "description_width": ""
          }
        },
        "9a95472c25454276a7fac7604470a80c": {
          "model_module": "@jupyter-widgets/base",
          "model_name": "LayoutModel",
          "model_module_version": "1.2.0",
          "state": {
            "_model_module": "@jupyter-widgets/base",
            "_model_module_version": "1.2.0",
            "_model_name": "LayoutModel",
            "_view_count": null,
            "_view_module": "@jupyter-widgets/base",
            "_view_module_version": "1.2.0",
            "_view_name": "LayoutView",
            "align_content": null,
            "align_items": null,
            "align_self": null,
            "border": null,
            "bottom": null,
            "display": null,
            "flex": null,
            "flex_flow": null,
            "grid_area": null,
            "grid_auto_columns": null,
            "grid_auto_flow": null,
            "grid_auto_rows": null,
            "grid_column": null,
            "grid_gap": null,
            "grid_row": null,
            "grid_template_areas": null,
            "grid_template_columns": null,
            "grid_template_rows": null,
            "height": null,
            "justify_content": null,
            "justify_items": null,
            "left": null,
            "margin": null,
            "max_height": null,
            "max_width": null,
            "min_height": null,
            "min_width": null,
            "object_fit": null,
            "object_position": null,
            "order": null,
            "overflow": null,
            "overflow_x": null,
            "overflow_y": null,
            "padding": null,
            "right": null,
            "top": null,
            "visibility": null,
            "width": "20px"
          }
        },
        "64da71e9c9714fe8848ad0cad8b50d6e": {
          "model_module": "@jupyter-widgets/controls",
          "model_name": "ProgressStyleModel",
          "model_module_version": "1.5.0",
          "state": {
            "_model_module": "@jupyter-widgets/controls",
            "_model_module_version": "1.5.0",
            "_model_name": "ProgressStyleModel",
            "_view_count": null,
            "_view_module": "@jupyter-widgets/base",
            "_view_module_version": "1.2.0",
            "_view_name": "StyleView",
            "bar_color": null,
            "description_width": ""
          }
        },
        "5396295fa7c8419e8fe7f4e44f03c06d": {
          "model_module": "@jupyter-widgets/base",
          "model_name": "LayoutModel",
          "model_module_version": "1.2.0",
          "state": {
            "_model_module": "@jupyter-widgets/base",
            "_model_module_version": "1.2.0",
            "_model_name": "LayoutModel",
            "_view_count": null,
            "_view_module": "@jupyter-widgets/base",
            "_view_module_version": "1.2.0",
            "_view_name": "LayoutView",
            "align_content": null,
            "align_items": null,
            "align_self": null,
            "border": null,
            "bottom": null,
            "display": null,
            "flex": null,
            "flex_flow": null,
            "grid_area": null,
            "grid_auto_columns": null,
            "grid_auto_flow": null,
            "grid_auto_rows": null,
            "grid_column": null,
            "grid_gap": null,
            "grid_row": null,
            "grid_template_areas": null,
            "grid_template_columns": null,
            "grid_template_rows": null,
            "height": null,
            "justify_content": null,
            "justify_items": null,
            "left": null,
            "margin": null,
            "max_height": null,
            "max_width": null,
            "min_height": null,
            "min_width": null,
            "object_fit": null,
            "object_position": null,
            "order": null,
            "overflow": null,
            "overflow_x": null,
            "overflow_y": null,
            "padding": null,
            "right": null,
            "top": null,
            "visibility": null,
            "width": null
          }
        },
        "2ab5db0b035c4816b977ffa279267f30": {
          "model_module": "@jupyter-widgets/controls",
          "model_name": "DescriptionStyleModel",
          "model_module_version": "1.5.0",
          "state": {
            "_model_module": "@jupyter-widgets/controls",
            "_model_module_version": "1.5.0",
            "_model_name": "DescriptionStyleModel",
            "_view_count": null,
            "_view_module": "@jupyter-widgets/base",
            "_view_module_version": "1.2.0",
            "_view_name": "StyleView",
            "description_width": ""
          }
        }
      }
    }
  },
  "cells": [
    {
      "cell_type": "markdown",
      "metadata": {
        "id": "vJuZw6V0ii4l"
      },
      "source": [
        "# 事前データ準備処理"
      ]
    },
    {
      "cell_type": "markdown",
      "metadata": {
        "id": "xS0LrSV7imbc"
      },
      "source": [
        "このプロジェクトは、AIにデータ解析してもらう前段階の、データの事前準備（加工）を行うものです。"
      ]
    },
    {
      "cell_type": "markdown",
      "metadata": {
        "id": "12S5DwIv9Y7Y"
      },
      "source": [
        "## 事前準備"
      ]
    },
    {
      "cell_type": "code",
      "metadata": {
        "id": "GtqHn1O99hUu"
      },
      "source": [
        "import pandas as pd\n",
        "import datetime\n",
        "import matplotlib as mpl\n",
        "import matplotlib.pyplot as plt\n",
        "from decimal import Decimal, ROUND_HALF_UP, ROUND_HALF_EVEN\n",
        "import math\n",
        "from tqdm.notebook import tqdm"
      ],
      "execution_count": null,
      "outputs": []
    },
    {
      "cell_type": "code",
      "metadata": {
        "id": "zW9lI4ZJ9cxk"
      },
      "source": [
        "# データファイル読み込み\n",
        "df = pd.read_csv(\n",
        "    'drive/MyDrive/FX/AI/data/DAT_ASCII_USDJPY_M1_2021.csv',\n",
        "    sep=';',\n",
        "    names=('date', 'open', 'high', 'low', 'close', 'spread'),\n",
        "    converters={'open': Decimal, 'high': Decimal, 'low': Decimal, 'close': Decimal},\n",
        "    )"
      ],
      "execution_count": null,
      "outputs": []
    },
    {
      "cell_type": "code",
      "metadata": {
        "id": "_CuPzkVi9klI"
      },
      "source": [
        "# カラム名を定義\n",
        "#df = df.set_axis(['date', 'open', 'high', 'low', 'close', 'spread'], axis=1)"
      ],
      "execution_count": null,
      "outputs": []
    },
    {
      "cell_type": "code",
      "metadata": {
        "id": "PGrbDhuD_Czx"
      },
      "source": [
        "# dateカラムを日付型に変更\n",
        "df['date'] = pd.to_datetime(df['date'])"
      ],
      "execution_count": null,
      "outputs": []
    },
    {
      "cell_type": "code",
      "metadata": {
        "id": "5kws8Oph_DXe"
      },
      "source": [
        "# dateカラムをindex列に指定\n",
        "df.set_index('date', inplace=True, drop=False)"
      ],
      "execution_count": null,
      "outputs": []
    },
    {
      "cell_type": "code",
      "source": [
        "df.head()"
      ],
      "metadata": {
        "colab": {
          "base_uri": "https://localhost:8080/",
          "height": 237
        },
        "id": "el0zMsPcoKpH",
        "outputId": "d3f9e146-f742-4c48-e641-0cf2ade4a2ca"
      },
      "execution_count": null,
      "outputs": [
        {
          "output_type": "execute_result",
          "data": {
            "text/plain": [
              "                                   date        open        high         low  \\\n",
              "date                                                                          \n",
              "2021-01-03 17:00:00 2021-01-03 17:00:00  103.097000  103.160000  103.097000   \n",
              "2021-01-03 17:01:00 2021-01-03 17:01:00  103.161000  103.161000  103.160000   \n",
              "2021-01-03 17:02:00 2021-01-03 17:02:00  103.161000  103.197000  103.161000   \n",
              "2021-01-03 17:03:00 2021-01-03 17:03:00  103.181000  103.186000  103.181000   \n",
              "2021-01-03 17:04:00 2021-01-03 17:04:00  103.184000  103.196000  103.184000   \n",
              "\n",
              "                          close  spread  diff  \n",
              "date                                           \n",
              "2021-01-03 17:00:00  103.160000       0   1.0  \n",
              "2021-01-03 17:01:00  103.161000       0   1.0  \n",
              "2021-01-03 17:02:00  103.197000       0   1.0  \n",
              "2021-01-03 17:03:00  103.182000       0   1.0  \n",
              "2021-01-03 17:04:00  103.195000       0   1.0  "
            ],
            "text/html": [
              "\n",
              "  <div id=\"df-68b5a9dd-efc9-4be2-a4c9-d8af1f1801f3\">\n",
              "    <div class=\"colab-df-container\">\n",
              "      <div>\n",
              "<style scoped>\n",
              "    .dataframe tbody tr th:only-of-type {\n",
              "        vertical-align: middle;\n",
              "    }\n",
              "\n",
              "    .dataframe tbody tr th {\n",
              "        vertical-align: top;\n",
              "    }\n",
              "\n",
              "    .dataframe thead th {\n",
              "        text-align: right;\n",
              "    }\n",
              "</style>\n",
              "<table border=\"1\" class=\"dataframe\">\n",
              "  <thead>\n",
              "    <tr style=\"text-align: right;\">\n",
              "      <th></th>\n",
              "      <th>date</th>\n",
              "      <th>open</th>\n",
              "      <th>high</th>\n",
              "      <th>low</th>\n",
              "      <th>close</th>\n",
              "      <th>spread</th>\n",
              "      <th>diff</th>\n",
              "    </tr>\n",
              "    <tr>\n",
              "      <th>date</th>\n",
              "      <th></th>\n",
              "      <th></th>\n",
              "      <th></th>\n",
              "      <th></th>\n",
              "      <th></th>\n",
              "      <th></th>\n",
              "      <th></th>\n",
              "    </tr>\n",
              "  </thead>\n",
              "  <tbody>\n",
              "    <tr>\n",
              "      <th>2021-01-03 17:00:00</th>\n",
              "      <td>2021-01-03 17:00:00</td>\n",
              "      <td>103.097000</td>\n",
              "      <td>103.160000</td>\n",
              "      <td>103.097000</td>\n",
              "      <td>103.160000</td>\n",
              "      <td>0</td>\n",
              "      <td>1.0</td>\n",
              "    </tr>\n",
              "    <tr>\n",
              "      <th>2021-01-03 17:01:00</th>\n",
              "      <td>2021-01-03 17:01:00</td>\n",
              "      <td>103.161000</td>\n",
              "      <td>103.161000</td>\n",
              "      <td>103.160000</td>\n",
              "      <td>103.161000</td>\n",
              "      <td>0</td>\n",
              "      <td>1.0</td>\n",
              "    </tr>\n",
              "    <tr>\n",
              "      <th>2021-01-03 17:02:00</th>\n",
              "      <td>2021-01-03 17:02:00</td>\n",
              "      <td>103.161000</td>\n",
              "      <td>103.197000</td>\n",
              "      <td>103.161000</td>\n",
              "      <td>103.197000</td>\n",
              "      <td>0</td>\n",
              "      <td>1.0</td>\n",
              "    </tr>\n",
              "    <tr>\n",
              "      <th>2021-01-03 17:03:00</th>\n",
              "      <td>2021-01-03 17:03:00</td>\n",
              "      <td>103.181000</td>\n",
              "      <td>103.186000</td>\n",
              "      <td>103.181000</td>\n",
              "      <td>103.182000</td>\n",
              "      <td>0</td>\n",
              "      <td>1.0</td>\n",
              "    </tr>\n",
              "    <tr>\n",
              "      <th>2021-01-03 17:04:00</th>\n",
              "      <td>2021-01-03 17:04:00</td>\n",
              "      <td>103.184000</td>\n",
              "      <td>103.196000</td>\n",
              "      <td>103.184000</td>\n",
              "      <td>103.195000</td>\n",
              "      <td>0</td>\n",
              "      <td>1.0</td>\n",
              "    </tr>\n",
              "  </tbody>\n",
              "</table>\n",
              "</div>\n",
              "      <button class=\"colab-df-convert\" onclick=\"convertToInteractive('df-68b5a9dd-efc9-4be2-a4c9-d8af1f1801f3')\"\n",
              "              title=\"Convert this dataframe to an interactive table.\"\n",
              "              style=\"display:none;\">\n",
              "        \n",
              "  <svg xmlns=\"http://www.w3.org/2000/svg\" height=\"24px\"viewBox=\"0 0 24 24\"\n",
              "       width=\"24px\">\n",
              "    <path d=\"M0 0h24v24H0V0z\" fill=\"none\"/>\n",
              "    <path d=\"M18.56 5.44l.94 2.06.94-2.06 2.06-.94-2.06-.94-.94-2.06-.94 2.06-2.06.94zm-11 1L8.5 8.5l.94-2.06 2.06-.94-2.06-.94L8.5 2.5l-.94 2.06-2.06.94zm10 10l.94 2.06.94-2.06 2.06-.94-2.06-.94-.94-2.06-.94 2.06-2.06.94z\"/><path d=\"M17.41 7.96l-1.37-1.37c-.4-.4-.92-.59-1.43-.59-.52 0-1.04.2-1.43.59L10.3 9.45l-7.72 7.72c-.78.78-.78 2.05 0 2.83L4 21.41c.39.39.9.59 1.41.59.51 0 1.02-.2 1.41-.59l7.78-7.78 2.81-2.81c.8-.78.8-2.07 0-2.86zM5.41 20L4 18.59l7.72-7.72 1.47 1.35L5.41 20z\"/>\n",
              "  </svg>\n",
              "      </button>\n",
              "      \n",
              "  <style>\n",
              "    .colab-df-container {\n",
              "      display:flex;\n",
              "      flex-wrap:wrap;\n",
              "      gap: 12px;\n",
              "    }\n",
              "\n",
              "    .colab-df-convert {\n",
              "      background-color: #E8F0FE;\n",
              "      border: none;\n",
              "      border-radius: 50%;\n",
              "      cursor: pointer;\n",
              "      display: none;\n",
              "      fill: #1967D2;\n",
              "      height: 32px;\n",
              "      padding: 0 0 0 0;\n",
              "      width: 32px;\n",
              "    }\n",
              "\n",
              "    .colab-df-convert:hover {\n",
              "      background-color: #E2EBFA;\n",
              "      box-shadow: 0px 1px 2px rgba(60, 64, 67, 0.3), 0px 1px 3px 1px rgba(60, 64, 67, 0.15);\n",
              "      fill: #174EA6;\n",
              "    }\n",
              "\n",
              "    [theme=dark] .colab-df-convert {\n",
              "      background-color: #3B4455;\n",
              "      fill: #D2E3FC;\n",
              "    }\n",
              "\n",
              "    [theme=dark] .colab-df-convert:hover {\n",
              "      background-color: #434B5C;\n",
              "      box-shadow: 0px 1px 3px 1px rgba(0, 0, 0, 0.15);\n",
              "      filter: drop-shadow(0px 1px 2px rgba(0, 0, 0, 0.3));\n",
              "      fill: #FFFFFF;\n",
              "    }\n",
              "  </style>\n",
              "\n",
              "      <script>\n",
              "        const buttonEl =\n",
              "          document.querySelector('#df-68b5a9dd-efc9-4be2-a4c9-d8af1f1801f3 button.colab-df-convert');\n",
              "        buttonEl.style.display =\n",
              "          google.colab.kernel.accessAllowed ? 'block' : 'none';\n",
              "\n",
              "        async function convertToInteractive(key) {\n",
              "          const element = document.querySelector('#df-68b5a9dd-efc9-4be2-a4c9-d8af1f1801f3');\n",
              "          const dataTable =\n",
              "            await google.colab.kernel.invokeFunction('convertToInteractive',\n",
              "                                                     [key], {});\n",
              "          if (!dataTable) return;\n",
              "\n",
              "          const docLinkHtml = 'Like what you see? Visit the ' +\n",
              "            '<a target=\"_blank\" href=https://colab.research.google.com/notebooks/data_table.ipynb>data table notebook</a>'\n",
              "            + ' to learn more about interactive tables.';\n",
              "          element.innerHTML = '';\n",
              "          dataTable['output_type'] = 'display_data';\n",
              "          await google.colab.output.renderOutput(dataTable, element);\n",
              "          const docLink = document.createElement('div');\n",
              "          docLink.innerHTML = docLinkHtml;\n",
              "          element.appendChild(docLink);\n",
              "        }\n",
              "      </script>\n",
              "    </div>\n",
              "  </div>\n",
              "  "
            ]
          },
          "metadata": {},
          "execution_count": 81
        }
      ]
    },
    {
      "cell_type": "markdown",
      "metadata": {
        "id": "QYYoi-qWi1cY"
      },
      "source": [
        "## 必要なデータ範囲にカット（過去1年分を目安）"
      ]
    },
    {
      "cell_type": "markdown",
      "metadata": {
        "id": "zunRcfIbhVHa"
      },
      "source": [
        "## 欠けている時間があるので補完する"
      ]
    },
    {
      "cell_type": "markdown",
      "metadata": {
        "id": "0ks_ZRhzhf3j"
      },
      "source": [
        "### 次レコードとの差分を取る"
      ]
    },
    {
      "cell_type": "code",
      "metadata": {
        "id": "Z9E4qsOmhkvB"
      },
      "source": [
        "# 割り算を行うときは切り捨て除算(\"//\")演算子を用いている。結果が60秒で割り切れることが明らかなので。\n",
        "df['diff'] = (df['date'].shift(-1) - df['date']).dt.total_seconds() // 60"
      ],
      "execution_count": null,
      "outputs": []
    },
    {
      "cell_type": "markdown",
      "metadata": {
        "id": "mOSkT_5gie-g"
      },
      "source": [
        "### 差が2以上60未満の場合に、欠けているレコードを補完する"
      ]
    },
    {
      "cell_type": "code",
      "source": [
        "lst_comple = {}"
      ],
      "metadata": {
        "id": "lt742X6ojTAq"
      },
      "execution_count": null,
      "outputs": []
    },
    {
      "cell_type": "code",
      "source": [
        "for index, row in tqdm(df[(1 < df['diff']) & (df['diff'] < 60)].iterrows()):\n",
        "  # 以下の条件は、2分以上の差があり、60未満の場合補完する、の意味\n",
        "  # 60未満というのは、非営業日とかだと数日値が動かないので除外している\n",
        "  # 金曜日の最終時刻で値が動かない場合はもうしょうがない..\n",
        "  i = 1\n",
        "  while i < row['diff']:\n",
        "    newdate = row['date'] + datetime.timedelta(minutes=i)\n",
        "    # 前の時間の終値から値が動いていないので、すべてcloseで新しい行を作る\n",
        "    # df.loc[newdate] = [newdate, row.close, row.close, row.close, row.close, row.spread, 1]    # 直接DataFrameに追加するとめちゃくちゃ遅いので、Listに追加していき後でDataFrameに変換して結合する\n",
        "    lst_comple[newdate] = [newdate, row.close, row.close, row.close, row.close, row.spread, 1]\n",
        "    i += 1"
      ],
      "metadata": {
        "colab": {
          "base_uri": "https://localhost:8080/",
          "height": 48,
          "referenced_widgets": [
            "b59a7eec99f344eaa70f718062850455",
            "8311672638de45549aaab8d73b3f809a",
            "9df71594208b41e3a98052921fe59c32",
            "9cb9f51506d34e7f8404988ad3f0be89",
            "8028eafe7c0f4cdb8617d440316636eb",
            "cfcd390c269f45e485be458f8a87e4b1",
            "7b98d04c40224791a9eb0a1407bca847",
            "9a95472c25454276a7fac7604470a80c",
            "64da71e9c9714fe8848ad0cad8b50d6e",
            "5396295fa7c8419e8fe7f4e44f03c06d",
            "2ab5db0b035c4816b977ffa279267f30"
          ]
        },
        "id": "456Va15ucs2C",
        "outputId": "c4887a96-2578-489a-82fa-989b9874f6f7"
      },
      "execution_count": null,
      "outputs": [
        {
          "output_type": "display_data",
          "data": {
            "text/plain": [
              "0it [00:00, ?it/s]"
            ],
            "application/vnd.jupyter.widget-view+json": {
              "version_major": 2,
              "version_minor": 0,
              "model_id": "b59a7eec99f344eaa70f718062850455"
            }
          },
          "metadata": {}
        }
      ]
    },
    {
      "cell_type": "code",
      "source": [
        "df_comple = pd.DataFrame.from_dict(lst_comple, orient='index', columns=['date', 'open', 'high', 'low', 'close', 'spread', 'diff'])\n",
        "del lst_comple\n",
        "df_comple.head()"
      ],
      "metadata": {
        "colab": {
          "base_uri": "https://localhost:8080/",
          "height": 206
        },
        "id": "ThHdr7IgkRNr",
        "outputId": "fc7af8be-3a5b-40e2-bae0-89441e83b4c5"
      },
      "execution_count": null,
      "outputs": [
        {
          "output_type": "execute_result",
          "data": {
            "text/plain": [
              "                                   date        open        high         low  \\\n",
              "2021-01-03 17:17:00 2021-01-03 17:17:00  103.212000  103.212000  103.212000   \n",
              "2021-01-03 17:20:00 2021-01-03 17:20:00  103.213000  103.213000  103.213000   \n",
              "2021-01-03 17:23:00 2021-01-03 17:23:00  103.213000  103.213000  103.213000   \n",
              "2021-01-03 17:25:00 2021-01-03 17:25:00  103.213000  103.213000  103.213000   \n",
              "2021-01-04 16:27:00 2021-01-04 16:27:00  103.160000  103.160000  103.160000   \n",
              "\n",
              "                          close  spread  diff  \n",
              "2021-01-03 17:17:00  103.212000       0     1  \n",
              "2021-01-03 17:20:00  103.213000       0     1  \n",
              "2021-01-03 17:23:00  103.213000       0     1  \n",
              "2021-01-03 17:25:00  103.213000       0     1  \n",
              "2021-01-04 16:27:00  103.160000       0     1  "
            ],
            "text/html": [
              "\n",
              "  <div id=\"df-974a5e7b-f6fa-4e9a-bffc-6b283c4c99b2\">\n",
              "    <div class=\"colab-df-container\">\n",
              "      <div>\n",
              "<style scoped>\n",
              "    .dataframe tbody tr th:only-of-type {\n",
              "        vertical-align: middle;\n",
              "    }\n",
              "\n",
              "    .dataframe tbody tr th {\n",
              "        vertical-align: top;\n",
              "    }\n",
              "\n",
              "    .dataframe thead th {\n",
              "        text-align: right;\n",
              "    }\n",
              "</style>\n",
              "<table border=\"1\" class=\"dataframe\">\n",
              "  <thead>\n",
              "    <tr style=\"text-align: right;\">\n",
              "      <th></th>\n",
              "      <th>date</th>\n",
              "      <th>open</th>\n",
              "      <th>high</th>\n",
              "      <th>low</th>\n",
              "      <th>close</th>\n",
              "      <th>spread</th>\n",
              "      <th>diff</th>\n",
              "    </tr>\n",
              "  </thead>\n",
              "  <tbody>\n",
              "    <tr>\n",
              "      <th>2021-01-03 17:17:00</th>\n",
              "      <td>2021-01-03 17:17:00</td>\n",
              "      <td>103.212000</td>\n",
              "      <td>103.212000</td>\n",
              "      <td>103.212000</td>\n",
              "      <td>103.212000</td>\n",
              "      <td>0</td>\n",
              "      <td>1</td>\n",
              "    </tr>\n",
              "    <tr>\n",
              "      <th>2021-01-03 17:20:00</th>\n",
              "      <td>2021-01-03 17:20:00</td>\n",
              "      <td>103.213000</td>\n",
              "      <td>103.213000</td>\n",
              "      <td>103.213000</td>\n",
              "      <td>103.213000</td>\n",
              "      <td>0</td>\n",
              "      <td>1</td>\n",
              "    </tr>\n",
              "    <tr>\n",
              "      <th>2021-01-03 17:23:00</th>\n",
              "      <td>2021-01-03 17:23:00</td>\n",
              "      <td>103.213000</td>\n",
              "      <td>103.213000</td>\n",
              "      <td>103.213000</td>\n",
              "      <td>103.213000</td>\n",
              "      <td>0</td>\n",
              "      <td>1</td>\n",
              "    </tr>\n",
              "    <tr>\n",
              "      <th>2021-01-03 17:25:00</th>\n",
              "      <td>2021-01-03 17:25:00</td>\n",
              "      <td>103.213000</td>\n",
              "      <td>103.213000</td>\n",
              "      <td>103.213000</td>\n",
              "      <td>103.213000</td>\n",
              "      <td>0</td>\n",
              "      <td>1</td>\n",
              "    </tr>\n",
              "    <tr>\n",
              "      <th>2021-01-04 16:27:00</th>\n",
              "      <td>2021-01-04 16:27:00</td>\n",
              "      <td>103.160000</td>\n",
              "      <td>103.160000</td>\n",
              "      <td>103.160000</td>\n",
              "      <td>103.160000</td>\n",
              "      <td>0</td>\n",
              "      <td>1</td>\n",
              "    </tr>\n",
              "  </tbody>\n",
              "</table>\n",
              "</div>\n",
              "      <button class=\"colab-df-convert\" onclick=\"convertToInteractive('df-974a5e7b-f6fa-4e9a-bffc-6b283c4c99b2')\"\n",
              "              title=\"Convert this dataframe to an interactive table.\"\n",
              "              style=\"display:none;\">\n",
              "        \n",
              "  <svg xmlns=\"http://www.w3.org/2000/svg\" height=\"24px\"viewBox=\"0 0 24 24\"\n",
              "       width=\"24px\">\n",
              "    <path d=\"M0 0h24v24H0V0z\" fill=\"none\"/>\n",
              "    <path d=\"M18.56 5.44l.94 2.06.94-2.06 2.06-.94-2.06-.94-.94-2.06-.94 2.06-2.06.94zm-11 1L8.5 8.5l.94-2.06 2.06-.94-2.06-.94L8.5 2.5l-.94 2.06-2.06.94zm10 10l.94 2.06.94-2.06 2.06-.94-2.06-.94-.94-2.06-.94 2.06-2.06.94z\"/><path d=\"M17.41 7.96l-1.37-1.37c-.4-.4-.92-.59-1.43-.59-.52 0-1.04.2-1.43.59L10.3 9.45l-7.72 7.72c-.78.78-.78 2.05 0 2.83L4 21.41c.39.39.9.59 1.41.59.51 0 1.02-.2 1.41-.59l7.78-7.78 2.81-2.81c.8-.78.8-2.07 0-2.86zM5.41 20L4 18.59l7.72-7.72 1.47 1.35L5.41 20z\"/>\n",
              "  </svg>\n",
              "      </button>\n",
              "      \n",
              "  <style>\n",
              "    .colab-df-container {\n",
              "      display:flex;\n",
              "      flex-wrap:wrap;\n",
              "      gap: 12px;\n",
              "    }\n",
              "\n",
              "    .colab-df-convert {\n",
              "      background-color: #E8F0FE;\n",
              "      border: none;\n",
              "      border-radius: 50%;\n",
              "      cursor: pointer;\n",
              "      display: none;\n",
              "      fill: #1967D2;\n",
              "      height: 32px;\n",
              "      padding: 0 0 0 0;\n",
              "      width: 32px;\n",
              "    }\n",
              "\n",
              "    .colab-df-convert:hover {\n",
              "      background-color: #E2EBFA;\n",
              "      box-shadow: 0px 1px 2px rgba(60, 64, 67, 0.3), 0px 1px 3px 1px rgba(60, 64, 67, 0.15);\n",
              "      fill: #174EA6;\n",
              "    }\n",
              "\n",
              "    [theme=dark] .colab-df-convert {\n",
              "      background-color: #3B4455;\n",
              "      fill: #D2E3FC;\n",
              "    }\n",
              "\n",
              "    [theme=dark] .colab-df-convert:hover {\n",
              "      background-color: #434B5C;\n",
              "      box-shadow: 0px 1px 3px 1px rgba(0, 0, 0, 0.15);\n",
              "      filter: drop-shadow(0px 1px 2px rgba(0, 0, 0, 0.3));\n",
              "      fill: #FFFFFF;\n",
              "    }\n",
              "  </style>\n",
              "\n",
              "      <script>\n",
              "        const buttonEl =\n",
              "          document.querySelector('#df-974a5e7b-f6fa-4e9a-bffc-6b283c4c99b2 button.colab-df-convert');\n",
              "        buttonEl.style.display =\n",
              "          google.colab.kernel.accessAllowed ? 'block' : 'none';\n",
              "\n",
              "        async function convertToInteractive(key) {\n",
              "          const element = document.querySelector('#df-974a5e7b-f6fa-4e9a-bffc-6b283c4c99b2');\n",
              "          const dataTable =\n",
              "            await google.colab.kernel.invokeFunction('convertToInteractive',\n",
              "                                                     [key], {});\n",
              "          if (!dataTable) return;\n",
              "\n",
              "          const docLinkHtml = 'Like what you see? Visit the ' +\n",
              "            '<a target=\"_blank\" href=https://colab.research.google.com/notebooks/data_table.ipynb>data table notebook</a>'\n",
              "            + ' to learn more about interactive tables.';\n",
              "          element.innerHTML = '';\n",
              "          dataTable['output_type'] = 'display_data';\n",
              "          await google.colab.output.renderOutput(dataTable, element);\n",
              "          const docLink = document.createElement('div');\n",
              "          docLink.innerHTML = docLinkHtml;\n",
              "          element.appendChild(docLink);\n",
              "        }\n",
              "      </script>\n",
              "    </div>\n",
              "  </div>\n",
              "  "
            ]
          },
          "metadata": {},
          "execution_count": 86
        }
      ]
    },
    {
      "cell_type": "code",
      "source": [
        "df = pd.concat([df, df_comple])\n",
        "del df_comple\n",
        "df.shape"
      ],
      "metadata": {
        "colab": {
          "base_uri": "https://localhost:8080/"
        },
        "id": "kUxhJWzGl0on",
        "outputId": "23a6c2e5-5705-4fa9-dc94-b8f7b952be15"
      },
      "execution_count": null,
      "outputs": [
        {
          "output_type": "execute_result",
          "data": {
            "text/plain": [
              "(373173, 7)"
            ]
          },
          "metadata": {},
          "execution_count": 87
        }
      ]
    },
    {
      "cell_type": "code",
      "source": [
        "# 行を足したので並べ替え直す\n",
        "df.sort_index(inplace=True)"
      ],
      "metadata": {
        "id": "_HDARvHDfRe2"
      },
      "execution_count": null,
      "outputs": []
    },
    {
      "cell_type": "markdown",
      "metadata": {
        "id": "YIDphMi0jVol"
      },
      "source": [
        "## データが1分足なので5分足に調整する"
      ]
    },
    {
      "cell_type": "markdown",
      "metadata": {
        "id": "F0RyeFk4jdqf"
      },
      "source": [
        "### ダウンサンプリング手法で5分足に丸める(https://note.nkmk.me/python-pandas-resampling-ohlc/)"
      ]
    },
    {
      "cell_type": "code",
      "metadata": {
        "id": "sAYWoawTjh3M"
      },
      "source": [
        "d_ohlc = {'open': 'first',\n",
        "          'high': 'max',\n",
        "          'low': 'min',\n",
        "          'close': 'last',}\n",
        "df = df.resample('5T').agg(d_ohlc)"
      ],
      "execution_count": null,
      "outputs": []
    },
    {
      "cell_type": "markdown",
      "metadata": {
        "id": "HweHjiqFjnRq"
      },
      "source": [
        "### 土日も5分足で埋められてしまっているため、NaNが含まれる行は削除する"
      ]
    },
    {
      "cell_type": "code",
      "metadata": {
        "id": "U5KtnEhIjrOH"
      },
      "source": [
        "df = df.dropna(how='any')"
      ],
      "execution_count": null,
      "outputs": []
    },
    {
      "cell_type": "markdown",
      "metadata": {
        "id": "SWaBymPWjBkT"
      },
      "source": [
        "## 各レコードに長期EMA, 中期EMA, 短期EMAのフィールドを追加"
      ]
    },
    {
      "cell_type": "code",
      "metadata": {
        "id": "AINmMQRNAsyP"
      },
      "source": [
        "# ewm関数を適用してEMAを追加する\n",
        "df['Lema'] = df['close'].ewm(span=200, adjust=False).mean()\n",
        "df['Mema'] = df['close'].ewm(span=75, adjust=False).mean()\n",
        "df['Sema'] = df['close'].ewm(span=25, adjust=False).mean()"
      ],
      "execution_count": null,
      "outputs": []
    },
    {
      "cell_type": "code",
      "metadata": {
        "id": "MJkpuquy0KK8"
      },
      "source": [
        "df['Lema'] = df['Lema'].round(4)\n",
        "df['Mema'] = df['Mema'].round(4)\n",
        "df['Sema'] = df['Sema'].round(4)"
      ],
      "execution_count": null,
      "outputs": []
    },
    {
      "cell_type": "code",
      "metadata": {
        "id": "wHVtv-AMAcXj"
      },
      "source": [
        "df['Lema'] = df['Lema'].map(lambda x: Decimal(str(x)))\n",
        "df['Mema'] = df['Mema'].map(lambda x: Decimal(str(x)))\n",
        "df['Sema'] = df['Sema'].map(lambda x: Decimal(str(x)))"
      ],
      "execution_count": null,
      "outputs": []
    },
    {
      "cell_type": "markdown",
      "metadata": {
        "id": "tqb03dccjIxv"
      },
      "source": [
        "## さらに以下を追加"
      ]
    },
    {
      "cell_type": "markdown",
      "metadata": {
        "id": "ekP7FYLIjSvG"
      },
      "source": [
        "### 長期と中期, 短期, closeとの距離"
      ]
    },
    {
      "cell_type": "code",
      "metadata": {
        "id": "SPODkHcTl_QH"
      },
      "source": [
        "df['L_Mdiff'] = df['Lema'] - df['Mema']\n",
        "df['L_Sdiff'] = df['Lema'] - df['Sema']\n",
        "df['L_Cdiff'] = df['Lema'] - df['close']"
      ],
      "execution_count": null,
      "outputs": []
    },
    {
      "cell_type": "markdown",
      "metadata": {
        "id": "C06iyf75jW1r"
      },
      "source": [
        "### 中期と短期, closeとの距離"
      ]
    },
    {
      "cell_type": "code",
      "metadata": {
        "id": "ROcOz1R8qxn_"
      },
      "source": [
        "df['M_Sdiff'] = df['Mema'] - df['Sema']\n",
        "df['M_Cdiff'] = df['Mema'] - df['close']"
      ],
      "execution_count": null,
      "outputs": []
    },
    {
      "cell_type": "markdown",
      "metadata": {
        "id": "ovOOWsmBjddj"
      },
      "source": [
        "### 短期とcloseとの距離"
      ]
    },
    {
      "cell_type": "code",
      "metadata": {
        "id": "dIYe3sDnriO4"
      },
      "source": [
        "df['S_Cdiff'] = df['Sema'] - df['close']"
      ],
      "execution_count": null,
      "outputs": []
    },
    {
      "cell_type": "markdown",
      "metadata": {
        "id": "lyKqL1dzSNi-"
      },
      "source": [
        "### 曜日情報も追加しておきたいかも"
      ]
    },
    {
      "cell_type": "code",
      "metadata": {
        "id": "SpM9LCrfSUB_"
      },
      "source": [
        "# 0:月曜日、6=日曜日\n",
        "df['weekday'] = df.index.weekday"
      ],
      "execution_count": null,
      "outputs": []
    },
    {
      "cell_type": "markdown",
      "metadata": {
        "id": "VQDw7LVqSd0P"
      },
      "source": [
        "### 時刻も入れていいんじゃないかな"
      ]
    },
    {
      "cell_type": "code",
      "metadata": {
        "id": "-Wz-szZPShzf"
      },
      "source": [
        ""
      ],
      "execution_count": null,
      "outputs": []
    },
    {
      "cell_type": "markdown",
      "metadata": {
        "id": "RMI-hxdYpQdX"
      },
      "source": [
        "## 目的変数を設定する"
      ]
    },
    {
      "cell_type": "markdown",
      "metadata": {
        "id": "PZMKWsuqjhmx"
      },
      "source": [
        "### 未来5本目のcloseと現在closeとの差額を求める"
      ]
    },
    {
      "cell_type": "code",
      "metadata": {
        "id": "BxNHtS7-S8ua"
      },
      "source": [
        "df['feature'] = df['close'].shift(-5) - df['close']"
      ],
      "execution_count": null,
      "outputs": []
    },
    {
      "cell_type": "code",
      "metadata": {
        "id": "J5FEjhnoWwA1"
      },
      "source": [
        "# 最後5行はデータ無しでNaNになるため0埋めする\n",
        "df = df.fillna(0)"
      ],
      "execution_count": null,
      "outputs": []
    },
    {
      "cell_type": "markdown",
      "metadata": {
        "id": "I6GGfrInpcvD"
      },
      "source": [
        "### 差額が+10pips超であれば\"1\"、以下であれば\"0\"、-10pips未満であれば\"-1\"とする"
      ]
    },
    {
      "cell_type": "code",
      "source": [
        "df['label'] = '0'\n",
        "df.loc[df['feature'] > 0.05, 'label'] = '1'\n",
        "df.loc[df['feature'] < -0.05, 'label'] = '-1'"
      ],
      "metadata": {
        "id": "os66-fqor5NB"
      },
      "execution_count": null,
      "outputs": []
    },
    {
      "cell_type": "code",
      "source": [
        "df['label'].value_counts()"
      ],
      "metadata": {
        "colab": {
          "base_uri": "https://localhost:8080/"
        },
        "id": "YwuSz3qUpIx2",
        "outputId": "47a661d1-ab14-456e-ea13-7bb306233e60"
      },
      "execution_count": null,
      "outputs": [
        {
          "output_type": "execute_result",
          "data": {
            "text/plain": [
              "0     59145\n",
              "1      7859\n",
              "-1     7623\n",
              "Name: label, dtype: int64"
            ]
          },
          "metadata": {},
          "execution_count": 120
        }
      ]
    },
    {
      "cell_type": "markdown",
      "metadata": {
        "id": "xS8yisiBqeaK"
      },
      "source": [
        "## 学習データとテストデータに分けて出力する"
      ]
    },
    {
      "cell_type": "code",
      "metadata": {
        "id": "yxdJARx6tcih"
      },
      "source": [
        "# データの分割もNNCがやってくれるので↑は削除\n",
        "df.to_csv(path_or_buf='drive/MyDrive/FX/AI/data/shaped/DAT_ASCII_USDJPY_M1_2021_CONV.csv', index=False, encoding='utf-8', line_terminator='\\r\\n')"
      ],
      "execution_count": null,
      "outputs": []
    },
    {
      "cell_type": "code",
      "metadata": {
        "id": "CmurNvBVWG-r"
      },
      "source": [
        ""
      ],
      "execution_count": null,
      "outputs": []
    },
    {
      "cell_type": "code",
      "metadata": {
        "id": "bOYdc7yDjm2w"
      },
      "source": [
        "df[df.feature < -0.11]"
      ],
      "execution_count": null,
      "outputs": []
    },
    {
      "cell_type": "code",
      "metadata": {
        "id": "aL0lBJWyM0Ka"
      },
      "source": [
        "plt.scatter(df['close'], df['feature'])"
      ],
      "execution_count": null,
      "outputs": []
    },
    {
      "cell_type": "code",
      "metadata": {
        "id": "8ugMkxWzNgXq"
      },
      "source": [
        "plt.hist(df['label'], bins=50)"
      ],
      "execution_count": null,
      "outputs": []
    }
  ]
}